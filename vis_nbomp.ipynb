{
 "cells": [
  {
   "cell_type": "code",
   "execution_count": 1,
   "metadata": {},
   "outputs": [
    {
     "ename": "AttributeError",
     "evalue": "'list' object has no attribute 'ndim'",
     "output_type": "error",
     "traceback": [
      "\u001b[0;31m---------------------------------------------------------------------------\u001b[0m",
      "\u001b[0;31mAttributeError\u001b[0m                            Traceback (most recent call last)",
      "\u001b[1;32m/Users/kunliu/Documents/QAOAKit/NIQAOAKit/vis_nbomp.ipynb Cell 1\u001b[0m in \u001b[0;36m<cell line: 2>\u001b[0;34m()\u001b[0m\n\u001b[1;32m      <a href='vscode-notebook-cell:/Users/kunliu/Documents/QAOAKit/NIQAOAKit/vis_nbomp.ipynb#W0sZmlsZQ%3D%3D?line=0'>1</a>\u001b[0m \u001b[39mimport\u001b[39;00m \u001b[39mnumpy\u001b[39;00m \u001b[39mas\u001b[39;00m \u001b[39mnp\u001b[39;00m\n\u001b[0;32m----> <a href='vscode-notebook-cell:/Users/kunliu/Documents/QAOAKit/NIQAOAKit/vis_nbomp.ipynb#W0sZmlsZQ%3D%3D?line=1'>2</a>\u001b[0m \u001b[39mfrom\u001b[39;00m \u001b[39moscar\u001b[39;00m\u001b[39m.\u001b[39;00m\u001b[39momp\u001b[39;00m \u001b[39mimport\u001b[39;00m tensor_OMPND\n",
      "File \u001b[0;32m~/Documents/QAOAKit/NIQAOAKit/oscar/omp.py:147\u001b[0m, in \u001b[0;36m<module>\u001b[0;34m\u001b[0m\n\u001b[1;32m    144\u001b[0m s \u001b[39m=\u001b[39m [\u001b[39m2\u001b[39m, \u001b[39m2\u001b[39m]\n\u001b[1;32m    145\u001b[0m epsilon \u001b[39m=\u001b[39m \u001b[39m1e-6\u001b[39m\n\u001b[0;32m--> 147\u001b[0m X, Ind \u001b[39m=\u001b[39m tensor_OMPND(D, Y, s, epsilon)\n",
      "File \u001b[0;32m~/Documents/QAOAKit/NIQAOAKit/oscar/omp.py:86\u001b[0m, in \u001b[0;36mtensor_OMPND\u001b[0;34m(D, Y, s, epsilon)\u001b[0m\n\u001b[1;32m     83\u001b[0m cond \u001b[39m=\u001b[39m \u001b[39mFalse\u001b[39;00m\n\u001b[1;32m     84\u001b[0m posi \u001b[39m=\u001b[39m np\u001b[39m.\u001b[39mzeros(N, dtype\u001b[39m=\u001b[39m\u001b[39mint\u001b[39m)\n\u001b[0;32m---> 86\u001b[0m B \u001b[39m=\u001b[39m mode_dot(Y, transp(D), mode\u001b[39m=\u001b[39;49m\u001b[39mlist\u001b[39;49m(\u001b[39mrange\u001b[39;49m(N)))\n\u001b[1;32m     88\u001b[0m condchange \u001b[39m=\u001b[39m \u001b[39mTrue\u001b[39;00m\n\u001b[1;32m     89\u001b[0m error \u001b[39m=\u001b[39m np\u001b[39m.\u001b[39minf\n",
      "File \u001b[0;32m~/miniforge3/envs/py39_mitiq/lib/python3.9/site-packages/tensorly/backend/__init__.py:206\u001b[0m, in \u001b[0;36mBackendManager.dispatch_backend_method.<locals>.wrapped_backend_method\u001b[0;34m(*args, **kwargs)\u001b[0m\n\u001b[1;32m    202\u001b[0m \u001b[39mdef\u001b[39;00m \u001b[39mwrapped_backend_method\u001b[39m(\u001b[39m*\u001b[39margs, \u001b[39m*\u001b[39m\u001b[39m*\u001b[39mkwargs):\n\u001b[1;32m    203\u001b[0m     \u001b[39m\"\"\"A dynamically dispatched method\u001b[39;00m\n\u001b[1;32m    204\u001b[0m \n\u001b[1;32m    205\u001b[0m \u001b[39m    Returns the queried method from the currently set backend\"\"\"\u001b[39;00m\n\u001b[0;32m--> 206\u001b[0m     \u001b[39mreturn\u001b[39;00m \u001b[39mgetattr\u001b[39;49m(\n\u001b[1;32m    207\u001b[0m         \u001b[39mcls\u001b[39;49m\u001b[39m.\u001b[39;49m_THREAD_LOCAL_DATA\u001b[39m.\u001b[39;49m\u001b[39m__dict__\u001b[39;49m\u001b[39m.\u001b[39;49mget(\u001b[39m\"\u001b[39;49m\u001b[39mbackend\u001b[39;49m\u001b[39m\"\u001b[39;49m, \u001b[39mcls\u001b[39;49m\u001b[39m.\u001b[39;49m_backend), name\n\u001b[1;32m    208\u001b[0m     )(\u001b[39m*\u001b[39;49margs, \u001b[39m*\u001b[39;49m\u001b[39m*\u001b[39;49mkwargs)\n",
      "File \u001b[0;32m~/miniforge3/envs/py39_mitiq/lib/python3.9/site-packages/tensorly/tenalg/core_tenalg/n_mode_product.py:38\u001b[0m, in \u001b[0;36mmode_dot\u001b[0;34m(tensor, matrix_or_vector, mode, transpose)\u001b[0m\n\u001b[1;32m     35\u001b[0m fold_mode \u001b[39m=\u001b[39m mode\n\u001b[1;32m     36\u001b[0m new_shape \u001b[39m=\u001b[39m \u001b[39mlist\u001b[39m(tensor\u001b[39m.\u001b[39mshape)\n\u001b[0;32m---> 38\u001b[0m \u001b[39mif\u001b[39;00m T\u001b[39m.\u001b[39;49mndim(matrix_or_vector) \u001b[39m==\u001b[39m \u001b[39m2\u001b[39m:  \u001b[39m# Tensor times matrix\u001b[39;00m\n\u001b[1;32m     39\u001b[0m     \u001b[39m# Test for the validity of the operation\u001b[39;00m\n\u001b[1;32m     40\u001b[0m     dim \u001b[39m=\u001b[39m \u001b[39m0\u001b[39m \u001b[39mif\u001b[39;00m transpose \u001b[39melse\u001b[39;00m \u001b[39m1\u001b[39m\n\u001b[1;32m     41\u001b[0m     \u001b[39mif\u001b[39;00m matrix_or_vector\u001b[39m.\u001b[39mshape[dim] \u001b[39m!=\u001b[39m tensor\u001b[39m.\u001b[39mshape[mode]:\n",
      "File \u001b[0;32m~/miniforge3/envs/py39_mitiq/lib/python3.9/site-packages/tensorly/backend/__init__.py:206\u001b[0m, in \u001b[0;36mBackendManager.dispatch_backend_method.<locals>.wrapped_backend_method\u001b[0;34m(*args, **kwargs)\u001b[0m\n\u001b[1;32m    202\u001b[0m \u001b[39mdef\u001b[39;00m \u001b[39mwrapped_backend_method\u001b[39m(\u001b[39m*\u001b[39margs, \u001b[39m*\u001b[39m\u001b[39m*\u001b[39mkwargs):\n\u001b[1;32m    203\u001b[0m     \u001b[39m\"\"\"A dynamically dispatched method\u001b[39;00m\n\u001b[1;32m    204\u001b[0m \n\u001b[1;32m    205\u001b[0m \u001b[39m    Returns the queried method from the currently set backend\"\"\"\u001b[39;00m\n\u001b[0;32m--> 206\u001b[0m     \u001b[39mreturn\u001b[39;00m \u001b[39mgetattr\u001b[39;49m(\n\u001b[1;32m    207\u001b[0m         \u001b[39mcls\u001b[39;49m\u001b[39m.\u001b[39;49m_THREAD_LOCAL_DATA\u001b[39m.\u001b[39;49m\u001b[39m__dict__\u001b[39;49m\u001b[39m.\u001b[39;49mget(\u001b[39m\"\u001b[39;49m\u001b[39mbackend\u001b[39;49m\u001b[39m\"\u001b[39;49m, \u001b[39mcls\u001b[39;49m\u001b[39m.\u001b[39;49m_backend), name\n\u001b[1;32m    208\u001b[0m     )(\u001b[39m*\u001b[39;49margs, \u001b[39m*\u001b[39;49m\u001b[39m*\u001b[39;49mkwargs)\n",
      "File \u001b[0;32m~/miniforge3/envs/py39_mitiq/lib/python3.9/site-packages/tensorly/backend/numpy_backend.py:30\u001b[0m, in \u001b[0;36mNumpyBackend.ndim\u001b[0;34m(tensor)\u001b[0m\n\u001b[1;32m     28\u001b[0m \u001b[39m@staticmethod\u001b[39m\n\u001b[1;32m     29\u001b[0m \u001b[39mdef\u001b[39;00m \u001b[39mndim\u001b[39m(tensor):\n\u001b[0;32m---> 30\u001b[0m     \u001b[39mreturn\u001b[39;00m tensor\u001b[39m.\u001b[39;49mndim\n",
      "\u001b[0;31mAttributeError\u001b[0m: 'list' object has no attribute 'ndim'"
     ]
    }
   ],
   "source": [
    "import numpy as np\n",
    "from oscar.omp import tensor_OMPND"
   ]
  },
  {
   "cell_type": "code",
   "execution_count": null,
   "metadata": {},
   "outputs": [],
   "source": []
  }
 ],
 "metadata": {
  "kernelspec": {
   "display_name": "py39_mitiq",
   "language": "python",
   "name": "python3"
  },
  "language_info": {
   "codemirror_mode": {
    "name": "ipython",
    "version": 3
   },
   "file_extension": ".py",
   "mimetype": "text/x-python",
   "name": "python",
   "nbconvert_exporter": "python",
   "pygments_lexer": "ipython3",
   "version": "3.9.13"
  },
  "orig_nbformat": 4
 },
 "nbformat": 4,
 "nbformat_minor": 2
}
