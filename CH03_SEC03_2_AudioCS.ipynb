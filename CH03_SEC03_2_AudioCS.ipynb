{
 "cells": [
  {
   "cell_type": "code",
   "execution_count": 19,
   "metadata": {},
   "outputs": [],
   "source": [
    "import numpy as np\n",
    "import matplotlib.pyplot as plt\n",
    "import os\n",
    "import sys\n",
    "import re\n",
    "from scipy.fftpack import dct, idct\n",
    "from scipy.optimize import minimize\n",
    "from sklearn import linear_model\n",
    "from scipy.stats import pearsonr, spearmanr\n",
    "\n",
    "sys.path.append(os.path.join('..','UTILS'))\n",
    "# from cosamp_fn import cosamp\n",
    "# cosamp function is available at https://github.com/avirmaux/CoSaMP\n",
    "# copy function from ipynb into cosamp_fn.py and place in UTILS folder\n",
    "\n",
    "# plt.rcParams['figure.figsize'] = [12, 12]\n",
    "# plt.rcParams.update({'font.size': 18})"
   ]
  },
  {
   "cell_type": "code",
   "execution_count": 5,
   "metadata": {},
   "outputs": [],
   "source": [
    "import pandas as pd\n",
    "import networkx as nx\n",
    "from sklearn.utils import shuffle\n",
    "from collections import Counter\n",
    "\n",
    "from QAOAKit import (\n",
    "    opt_angles_for_graph,\n",
    "    get_fixed_angles,\n",
    "    get_graph_id,\n",
    "    get_graph_from_id,\n",
    "    angles_to_qaoa_format,\n",
    "    beta_to_qaoa_format,\n",
    "    gamma_to_qaoa_format,\n",
    "    angles_to_qiskit_format,\n",
    "    angles_to_qtensor_format,\n",
    "    get_3_reg_dataset_table,\n",
    "    get_3_reg_dataset_table_row,\n",
    "    get_full_qaoa_dataset_table_row,\n",
    "    get_full_qaoa_dataset_table,\n",
    "    get_fixed_angle_dataset_table,\n",
    "    get_fixed_angle_dataset_table_row,\n",
    "    qaoa_maxcut_energy,\n",
    "    noisy_qaoa_maxcut_energy,\n",
    "    angles_from_qiskit_format,\n",
    "\n",
    ")\n",
    "\n",
    "from QAOAKit.compressed_sensing import cosamp"
   ]
  },
  {
   "cell_type": "code",
   "execution_count": 6,
   "metadata": {},
   "outputs": [],
   "source": [
    "def cosamp(phi, u, s, epsilon=1e-10, max_iter=1000):\n",
    "    \"\"\"\n",
    "    Return an `s`-sparse approximation of the target signal\n",
    "    Input:\n",
    "        - phi, sampling matrix\n",
    "        - u, noisy sample vector\n",
    "        - s, sparsity\n",
    "    \"\"\"\n",
    "    a = np.zeros(phi.shape[1])\n",
    "    v = u\n",
    "    it = 0 # count\n",
    "    halt = False\n",
    "    while not halt:\n",
    "        it += 1\n",
    "        print(\"Iteration {}\\r\".format(it), end=\"\")\n",
    "        \n",
    "        y = np.dot(np.transpose(phi), v)\n",
    "        omega = np.argsort(y)[-(2*s):] # large components\n",
    "        omega = np.union1d(omega, a.nonzero()[0]) # use set instead?\n",
    "        phiT = phi[:, omega]\n",
    "        b = np.zeros(phi.shape[1])\n",
    "        # Solve Least Square\n",
    "        b[omega], _, _, _ = np.linalg.lstsq(phiT, u)\n",
    "        \n",
    "        # Get new estimate\n",
    "        b[np.argsort(b)[:-s]] = 0\n",
    "        a = b\n",
    "        \n",
    "        # Halt criterion\n",
    "        v_old = v\n",
    "        v = u - np.dot(phi, a)\n",
    "\n",
    "        halt = (np.linalg.norm(v - v_old) < epsilon) or \\\n",
    "            np.linalg.norm(v) < epsilon or \\\n",
    "            it > max_iter\n",
    "        \n",
    "    return a"
   ]
  },
  {
   "cell_type": "code",
   "execution_count": 7,
   "metadata": {},
   "outputs": [],
   "source": [
    "def cnt_opt_by_cs(x: np.ndarray):\n",
    "    n = x.shape[0]\n",
    "    xt = np.fft.fft(x) # Fourier transformed signal\n",
    "    PSD = xt * np.conj(xt) / n # Power spectral density\n",
    "    p = n // 32 # num. random samples, p = n/32\n",
    "    perm = np.floor(np.random.rand(p) * n).astype(int)\n",
    "    y = x[perm]\n",
    "\n",
    "    # reconstruct\n",
    "    Psi = dct(np.identity(n)) # Build Psi\n",
    "    Theta = Psi[perm,:]       # Measure rows of Psi\n",
    "    s = cosamp(Theta, y, 10, epsilon=1.e-10, max_iter=10) # CS via matching pursuit\n",
    "    xrecon = idct(s) # reconstruct full signal\n",
    "    return xrecon"
   ]
  },
  {
   "cell_type": "code",
   "execution_count": 5,
   "metadata": {},
   "outputs": [
    {
     "name": "stdout",
     "output_type": "stream",
     "text": [
      "Index(['pynauty_cert', 'p_max', 'G', 'n', 'C_{true opt}', 'C_fixed', 'C_opt',\n",
      "       'beta', 'gamma', 'all beta (degenerate optima)',\n",
      "       'all gamma (degenerate optima)', 'theta'],\n",
      "      dtype='object')\n"
     ]
    }
   ],
   "source": [
    "# reg3s = get_3_reg_dataset_table().reset_index()\n",
    "# len(reg3s)\n",
    "# print(reg3s.columns)"
   ]
  },
  {
   "cell_type": "code",
   "execution_count": 8,
   "metadata": {},
   "outputs": [],
   "source": [
    "def vis_rec(x1, x2, y1, perm):\n",
    "    n = x1.shape[0]\n",
    "    t = range(n)\n",
    "    time_window = np.array([1024,1280])/4096\n",
    "    freq = np.arange(n)\n",
    "    L = int(np.floor(n/2))\n",
    "\n",
    "\n",
    "    plt.figure(figsize=(6, 12))\n",
    "    fig, axs = plt.subplots(1, 2)\n",
    "    axs = axs.reshape(-1)\n",
    "\n",
    "    # axs[1].plot(freq[:L],PSD[:L],color='k',linewidth=2)\n",
    "    # axs[1].set_xlim(0, 1024)\n",
    "    # axs[1].set_ylim(0, 1200)\n",
    "\n",
    "    axs[0].plot(t, x1, color='k', linewidth=2)\n",
    "    # axs[0].plot(perm / n, y1, color='r',marker='x',linewidth=0,ms=12,mew=4)\n",
    "    # axs[0].set_xlim(time_window[0],time_window[1])\n",
    "    # axs[0].set_ylim(-2, 2)\n",
    "\n",
    "    axs[1].plot(t, x2, color='r',linewidth=2)\n",
    "    # axs[2].set_xlim(time_window[0],time_window[1])\n",
    "    # axs[2].set_ylim(-2, 2)\n",
    "\n",
    "    # xtrecon = np.fft.fft(xrecon,n) # computes the (fast) discrete fourier transform\n",
    "    # PSDrecon = xtrecon * np.conj(xtrecon)/n # Power spectrum (how much power in each freq)\n",
    "\n",
    "    # axs[3].plot(freq[:L],PSDrecon[:L],color='r',linewidth=2)\n",
    "    # axs[3].set_xlim(0, 1024)\n",
    "    # axs[3].set_ylim(0, 1200)\n",
    "\n",
    "    plt.show()"
   ]
  },
  {
   "cell_type": "code",
   "execution_count": 34,
   "metadata": {},
   "outputs": [],
   "source": [
    "def check_n_optima(improved_n_optima, ar_miti, ar_unmiti):\n",
    "    cnt_n_opt_improved = 0\n",
    "    cnt_ar_unimproved = 0\n",
    "    cnt_n_opt_unimproved = 0\n",
    "    cnt_n_opt_decreased = 0\n",
    "\n",
    "    if improved_n_optima > 4:\n",
    "        cnt_n_opt_improved += 1\n",
    "        if ar_miti > ar_unmiti:\n",
    "            print(f\"improved_n_optima: {improved_n_optima}, \" \n",
    "            f\"and meantime AR: {ar_unmiti:.3f} -> {ar_miti:.3f}\")\n",
    "        else:\n",
    "            cnt_ar_unimproved += 1\n",
    "    elif improved_n_optima == 1:\n",
    "        cnt_n_opt_unimproved += 1\n",
    "    else:\n",
    "        cnt_n_opt_decreased += 1\n",
    "\n",
    "    return np.array([\n",
    "        cnt_n_opt_improved,\n",
    "        cnt_ar_unimproved,\n",
    "        cnt_n_opt_unimproved,\n",
    "        cnt_n_opt_decreased\n",
    "    ])\n",
    "\n",
    "\n",
    "def get_n_freqs(x):\n",
    "    n = x.shape[0]\n",
    "    n_freqs = 0\n",
    "\n",
    "    xt = np.fft.fft(x, n) # computes the (fast) discrete fourier transform\n",
    "    PSD = xt * np.conj(xt) / n # Power spectrum (how much power in each freq)\n",
    "\n",
    "    n_freqs = np.sum(PSD > 1)\n",
    "    \n",
    "    return n_freqs\n",
    "    \n",
    "\n",
    "def count_AR():\n",
    "    # exp_dir = 'figs/cnt_opt_miti/2022-07-18_20:47:26'\n",
    "    # exp_dir = 'figs/cnt_opt_miti/2022-07-20_14:53:22'\n",
    "    # exp_dir = 'figs/cnt_opt_miti/2022-07-20_16:00:39' # grid search\n",
    "    exp_dir = 'figs/cnt_opt_miti/2022-07-23_17:47:35' # compressed sensing\n",
    "    graph_dirs = os.listdir(exp_dir)\n",
    "\n",
    "    graph_dir_pattern = f\"G(?P<row_id>[0-9]+)_nQ(?P<n_qubits>[0-9]+)_p2\"\n",
    "    reg = re.compile(graph_dir_pattern)\n",
    "\n",
    "    # cnt_ar_unimproved = 0\n",
    "    # cnt_n_opt_improved = 0\n",
    "    # cnt_n_opt_unimproved = 0\n",
    "    # cnt_n_opt_decreased = 0\n",
    "\n",
    "    improved_ars = []\n",
    "    improved_n_opts = []\n",
    "\n",
    "    n_graphs = len(graph_dirs)\n",
    "\n",
    "    # rst_df = pd.read_pickle(\"cnt_opt_miti_df/2022-07-18_20:47:26_cnt_opt_fixed_angles.p\")\n",
    "    # print(rst_df.columns)\n",
    "    cnter = np.zeros(4)\n",
    "    for graph_dir in graph_dirs:\n",
    "        # print(graph_dir)\n",
    "        reg_match = reg.match(graph_dir)\n",
    "        reg_dict = reg_match.groupdict()\n",
    "        \n",
    "        # data = []\n",
    "        mitis = []\n",
    "        unmitis = []\n",
    "        \n",
    "        # miti_cnt_opt = 0\n",
    "        # unmiti_cnt_opt = 0\n",
    "\n",
    "        # improved_n_optima = 0\n",
    "        improved_n_optima_recon = 0\n",
    "        improved_n_optima_recon_2 = 0\n",
    "        for i in range(4):\n",
    "            data = np.load(f'{exp_dir}/{graph_dir}/varIdx{i}.npz', allow_pickle=True)\n",
    "            # data.append(arr)\n",
    "            mitis.append(data['mitis_recon'])\n",
    "            unmitis.append(data['unmitis_recon'])\n",
    "            # mitis = data['mitis']\n",
    "            # unmitis = data['unmitis']\n",
    "            # C_opt = reg3s.iloc[row_id]['C_fixed']\n",
    "            C_opt = data['C_opt'] # all the same for 4 data's\n",
    "            \n",
    "            improved_n_optima_recon += data['improved_n_optima_recon']\n",
    "            # improved_n_optima += data['improved_n_optima']\n",
    "            improved_n_optima_recon_2 += np.sum(data['mitis_recon'] > data['unmitis_recon'].max())\n",
    "            assert improved_n_optima_recon == improved_n_optima_recon_2\n",
    "            # continue\n",
    "\n",
    "        mitis = np.concatenate(mitis, axis=0)\n",
    "        unmitis = np.concatenate(unmitis, axis=0)\n",
    "        # print(len(mitis))\n",
    "        # print(len(unmitis))\n",
    "        \n",
    "        ar_miti = mitis.max() / C_opt\n",
    "        ar_unmiti = unmitis.max() / C_opt\n",
    "\n",
    "        improved_ars.append(ar_miti - ar_unmiti)\n",
    "            \n",
    "\n",
    "            # row_id = int(reg_dict['row_id'])\n",
    "            # n_qubits = int(reg_dict['n_qubits'])\n",
    "        # print(row_id, n_qubits)\n",
    "        # row = reg3s.iloc[row_id]\n",
    "        # row = rst_df[rst_df['row_id'] == row_id].iloc[0]\n",
    "\n",
    "        # assert row['n_qubits'] == n_qubits\n",
    "        # assert row['p'] == 2\n",
    "\n",
    "\n",
    "        # mitis=miti_z, unmitis=unmiti_z,\n",
    "        #     miti_cnt_opt=miti_cnt_opt, unmiti_cnt_opt=unmiti_cnt_opt\n",
    "\n",
    "            # adjusted_thd = thd / ar_unmiti\n",
    "            # adjusted_thd = (1 - ar_unmiti) * C_opt\n",
    "            # print(f\"thd: {thd} -> {adjusted_thd}\")\n",
    "            # print(ar_unmiti)\n",
    "            # miti_cnt_opt = data['miti_cnt_opt']\n",
    "            # unmiti_cnt_opt = data['unmiti_cnt_opt']\n",
    "            # print(data['mitis'], data['unmitis'])\n",
    "            # miti_cnt_opt = np.mean(row['miti_n_opt_list'])\n",
    "            # unmiti_cnt_opt = np.mean(row['unmiti_n_opt_list'])\n",
    "            # C_opts = [C_opts for _ in range(len(data['mitis']))]\n",
    "\n",
    "            # mitis_rec = cnt_opt_by_cs(mitis)\n",
    "            # unmitis_rec = cnt_opt_by_cs(unmitis)\n",
    "\n",
    "            # vis_rec(mitis, mitis_rec, None, None)\n",
    "\n",
    "            \n",
    "            # miti_cnt_opt += np.sum(np.isclose(mitis_rec, C_opt, atol=adjusted_thd) == True)\n",
    "            # unmiti_cnt_opt += np.sum(np.isclose(unmitis_rec, C_opt, atol=adjusted_thd) == True)\n",
    "        \n",
    "        cnt = check_n_optima(\n",
    "            improved_n_optima=improved_n_optima_recon,\n",
    "            ar_miti=ar_miti,\n",
    "            ar_unmiti=ar_unmiti\n",
    "        )\n",
    "        cnter += cnt\n",
    "        improved_n_opts.append(improved_n_optima_recon)\n",
    "\n",
    "        # if miti_cnt_opt > unmiti_cnt_opt:\n",
    "        #     cnt_n_opt_improved += 1\n",
    "        #     if ar_miti > ar_unmiti:\n",
    "        #         print(f\"n_optima: {unmiti_cnt_opt} -> {miti_cnt_opt}, \" \n",
    "        #         f\"and meantime AR: {ar_unmiti:.3f} -> {ar_miti:.3f}\")\n",
    "        #         continue\n",
    "        #     else:\n",
    "        #         cnt_ar_unimproved += 1\n",
    "        # elif np.isclose(unmiti_cnt_opt, miti_cnt_opt):   \n",
    "        #     cnt_n_opt_unimproved += 1\n",
    "        # elif unmiti_cnt_opt < miti_cnt_opt:\n",
    "        #     cnt_n_opt_decreased += 1\n",
    "    \n",
    "    cnt_n_opt_improved = cnter[0]\n",
    "    cnt_ar_unimproved = cnter[1]\n",
    "    cnt_n_opt_unimproved = cnter[2]\n",
    "    cnt_n_opt_decreased = cnter[3]\n",
    "\n",
    "    print(f\"# of graphs that n_optima improves and AR improves (see details above): {cnt_n_opt_improved - cnt_ar_unimproved} / {n_graphs}\")\n",
    "    print(f\"# of graphs that n_optima improves but AR does not: {cnt_ar_unimproved} / {n_graphs}\")\n",
    "    print(f\"# of graphs that n_optima does not change: {cnt_n_opt_unimproved} / {n_graphs}\")\n",
    "    print(f\"# of graphs that n_optima decreases: {cnt_n_opt_decreased} / {n_graphs}\")\n",
    "\n",
    "    # return cnt_n_opt_improved - cnt_ar_unimproved\n",
    "    \n",
    "    # print(improved_cnt_n_opts, improved_ars)\n",
    "    r_p, p_p = pearsonr(improved_n_opts, improved_ars)\n",
    "    r_s, p_s = spearmanr(improved_n_opts, improved_ars)\n",
    "    print(\"\")\n",
    "    \n",
    "    print(\"Corelation value between improved n_optima and improved AR:\")\n",
    "    print(f\"Pearson : r={r_p:+.5f}\\t p={p_p:.5f}\\n\"\n",
    "          f\"Spearman: r={r_s:+.5f}\\t p={p_s:.5f}\")\n",
    "#     print(f\"{feature:<25} & {r_p:+.5f} & {p_p:.5f} \\\\\\\\\")\n",
    "    return"
   ]
  },
  {
   "cell_type": "code",
   "execution_count": 35,
   "metadata": {},
   "outputs": [
    {
     "name": "stdout",
     "output_type": "stream",
     "text": [
      "improved_n_optima: 17, and meantime AR: 0.993 -> 1.028\n",
      "improved_n_optima: 24, and meantime AR: 0.841 -> 0.883\n",
      "improved_n_optima: 27, and meantime AR: 0.882 -> 0.937\n",
      "improved_n_optima: 16, and meantime AR: 0.978 -> 1.008\n",
      "improved_n_optima: 23, and meantime AR: 0.830 -> 0.850\n",
      "improved_n_optima: 24, and meantime AR: 0.939 -> 0.960\n",
      "improved_n_optima: 20, and meantime AR: 0.786 -> 0.806\n",
      "improved_n_optima: 17, and meantime AR: 0.752 -> 0.779\n",
      "improved_n_optima: 22, and meantime AR: 0.831 -> 0.873\n",
      "improved_n_optima: 20, and meantime AR: 0.978 -> 1.012\n",
      "improved_n_optima: 18, and meantime AR: 0.987 -> 1.013\n",
      "improved_n_optima: 19, and meantime AR: 0.810 -> 0.837\n",
      "improved_n_optima: 23, and meantime AR: 0.803 -> 0.823\n",
      "improved_n_optima: 14, and meantime AR: 0.838 -> 0.881\n",
      "improved_n_optima: 21, and meantime AR: 0.837 -> 0.888\n",
      "improved_n_optima: 22, and meantime AR: 0.806 -> 0.829\n",
      "improved_n_optima: 8, and meantime AR: 0.762 -> 0.763\n",
      "improved_n_optima: 14, and meantime AR: 0.816 -> 0.829\n",
      "improved_n_optima: 12, and meantime AR: 0.783 -> 0.795\n",
      "improved_n_optima: 14, and meantime AR: 0.811 -> 0.835\n",
      "improved_n_optima: 26, and meantime AR: 0.852 -> 0.889\n",
      "improved_n_optima: 16, and meantime AR: 0.814 -> 0.864\n",
      "improved_n_optima: 18, and meantime AR: 0.975 -> 1.046\n",
      "improved_n_optima: 20, and meantime AR: 0.900 -> 0.926\n",
      "improved_n_optima: 8, and meantime AR: 0.980 -> 0.997\n",
      "improved_n_optima: 18, and meantime AR: 1.006 -> 1.074\n",
      "improved_n_optima: 16, and meantime AR: 0.743 -> 0.760\n",
      "improved_n_optima: 10, and meantime AR: 0.885 -> 0.895\n",
      "improved_n_optima: 19, and meantime AR: 0.749 -> 0.767\n",
      "improved_n_optima: 19, and meantime AR: 0.975 -> 1.019\n",
      "improved_n_optima: 25, and meantime AR: 0.985 -> 1.027\n",
      "improved_n_optima: 22, and meantime AR: 0.876 -> 0.927\n",
      "improved_n_optima: 18, and meantime AR: 0.790 -> 0.840\n",
      "improved_n_optima: 12, and meantime AR: 0.910 -> 0.922\n",
      "improved_n_optima: 14, and meantime AR: 0.873 -> 0.904\n",
      "# of graphs that n_optima improves and AR improves (see details above): 35.0 / 35\n",
      "# of graphs that n_optima improves but AR does not: 0.0 / 35\n",
      "# of graphs that n_optima does not change: 0.0 / 35\n",
      "# of graphs that n_optima decreases: 0.0 / 35\n",
      "\n",
      "Corelation value between improved n_optima and improved AR:\n",
      "Pearson : r=+0.45904\t p=0.00554\n",
      "Spearman: r=+0.44217\t p=0.00782\n"
     ]
    }
   ],
   "source": [
    "count_AR()"
   ]
  },
  {
   "cell_type": "code",
   "execution_count": 87,
   "metadata": {},
   "outputs": [],
   "source": [
    "def cnt_opt_by_cs(x: np.ndarray):\n",
    "    n = x.shape[0]\n",
    "    xt = np.fft.fft(x) # Fourier transformed signal\n",
    "    PSD = xt * np.conj(xt) / n # Power spectral density\n",
    "    p = 128 # num. random samples, p = n/32\n",
    "    perm = np.floor(np.random.rand(p) * n).astype(int)\n",
    "    y = x[perm]\n",
    "\n",
    "    # reconstruct\n",
    "    Psi = dct(np.identity(n)) # Build Psi\n",
    "    Theta = Psi[perm,:]       # Measure rows of Psi\n",
    "    s = cosamp(Theta, y, 10, epsilon=1.e-10, max_iter=10) # CS via matching pursuit\n",
    "    xrecon = idct(s) # reconstruct full signal\n",
    "    return xrecon"
   ]
  },
  {
   "cell_type": "code",
   "execution_count": 36,
   "metadata": {},
   "outputs": [],
   "source": [
    "def recon_by_Lasso(Theta, y):\n",
    "    n = Theta.shape[1]\n",
    "    lasso = linear_model.Lasso(alpha=0.001)# here, we use lasso to minimize the L1 norm\n",
    "    # lasso.fit(Theta, y.reshape((M,)))\n",
    "    lasso.fit(Theta, y)\n",
    "    # Plotting the reconstructed coefficients and the signal\n",
    "    # Creates the fourier transform that will most minimize l1 norm \n",
    "    recons = idct(lasso.coef_.reshape((n, 1)), axis=0)\n",
    "    return recons + lasso.intercept_"
   ]
  },
  {
   "cell_type": "code",
   "execution_count": 48,
   "metadata": {},
   "outputs": [],
   "source": [
    "## Generate signal, DCT of signal\n",
    "\n",
    "n = 4096 # points in high resolution signal\n",
    "t = np.linspace(0, 1, n)\n",
    "x = np.cos(2 * 97 * np.pi * t) + np.cos(2 * 777 * np.pi * t) + 2\n",
    "# x = np.cos(2 * np.pi * t)\n",
    "xt = np.fft.fft(x) # Fourier transformed signal\n",
    "PSD = xt * np.conj(xt) / n # Power spectral density"
   ]
  },
  {
   "cell_type": "code",
   "execution_count": 49,
   "metadata": {},
   "outputs": [
    {
     "name": "stdout",
     "output_type": "stream",
     "text": [
      "[1742 2219  902  363  777 2477 2975 2667 3326 2476 1030  540 2646 2982\n",
      " 2503 3679  168 2556 1273  397  581 1425 1785 1586 2176  790 3882 2864\n",
      " 1116  425 2429 1429 1530 1728 1552 3028 3598 2813 2504 1412  296 3863\n",
      " 2805 1378 1438 1334  130 1420 2822 1720 3750 3259 2756  545 2391 2881\n",
      "   47 1273 2384 3542 1875 2521 3791 1585 2153 3043 2398 1901 2660  877\n",
      "  875 1417 3742  828  348  130 1846  612 1339 2637 1503 2196 1812 2775\n",
      " 3575 3988 3706 1838 3023  292 1659  235 3785 3901  638 2516 1626 2815\n",
      " 3162 3436  177 3045 2310 2781  300  676 2850  907  127 3149 1035  687\n",
      " 3064 1293 1415 2791 1346  212  788 1460 1216 2561 1298 1028  302  325\n",
      " 1514 3077]\n"
     ]
    }
   ],
   "source": [
    "## Randomly sample signal\n",
    "p = 128 # num. random samples, p = n/32\n",
    "perm = np.floor(np.random.rand(p) * n).astype(int)\n",
    "y = x[perm]\n",
    "print(perm)"
   ]
  },
  {
   "cell_type": "code",
   "execution_count": 50,
   "metadata": {},
   "outputs": [],
   "source": [
    "## Solve compressed sensing problem\n",
    "Psi = dct(np.identity(n)) # Build Psi\n",
    "Theta = Psi[perm,:]       # Measure rows of Psi\n",
    "\n",
    "# s = cosamp(Theta,y,10,epsilon=1.e-10,max_iter=10) # CS via matching pursuit\n",
    "# xrecon = idct(s) # reconstruct full signal"
   ]
  },
  {
   "cell_type": "code",
   "execution_count": 51,
   "metadata": {},
   "outputs": [],
   "source": [
    "# xrecon = cnt_opt_by_cs(x)\n",
    "xrecon = recon_by_Lasso(Theta, y)"
   ]
  },
  {
   "cell_type": "code",
   "execution_count": 52,
   "metadata": {},
   "outputs": [
    {
     "name": "stderr",
     "output_type": "stream",
     "text": [
      "/Users/kunliu/miniforge3/envs/py39_mitiq/lib/python3.9/site-packages/numpy/core/_asarray.py:102: ComplexWarning: Casting complex values to real discards the imaginary part\n",
      "  return array(a, dtype, copy=False, order=order)\n"
     ]
    },
    {
     "data": {
      "image/png": "[encoded data removed]",
      "text/plain": [
       "<Figure size 432x288 with 4 Axes>"
      ]
     },
     "metadata": {
      "needs_background": "light"
     },
     "output_type": "display_data"
    }
   ],
   "source": [
    "## Plot\n",
    "time_window = np.array([1024,1280])/4096\n",
    "freq = np.arange(n)\n",
    "L = int(np.floor(n/2))\n",
    "\n",
    "\n",
    "fig,axs = plt.subplots(2,2)\n",
    "axs = axs.reshape(-1)\n",
    "\n",
    "axs[1].plot(freq[:L],PSD[:L],color='k',linewidth=2)\n",
    "axs[1].set_xlim(0, 1024)\n",
    "axs[1].set_ylim(0, 1200)\n",
    "\n",
    "axs[0].plot(t,x,color='k',linewidth=2)\n",
    "axs[0].plot(perm/n,y,color='r',marker='x',linewidth=0,ms=5,mew=4)\n",
    "axs[0].set_xlim(time_window[0],time_window[1])\n",
    "axs[0].set_ylim(-2, 2)\n",
    "\n",
    "axs[2].plot(t,xrecon,color='r',linewidth=2)\n",
    "axs[2].set_xlim(time_window[0],time_window[1])\n",
    "axs[2].set_ylim(-2, 2)\n",
    "\n",
    "xtrecon = np.fft.fft(xrecon,n) # computes the (fast) discrete fourier transform\n",
    "PSDrecon = xtrecon * np.conj(xtrecon)/n # Power spectrum (how much power in each freq)\n",
    "\n",
    "axs[3].plot(freq[:L],PSDrecon[:L],color='r',linewidth=2)\n",
    "axs[3].set_xlim(0, 1024)\n",
    "axs[3].set_ylim(0, 1200)\n",
    "\n",
    "plt.show()"
   ]
  },
  {
   "cell_type": "code",
   "execution_count": 28,
   "metadata": {},
   "outputs": [],
   "source": [
    "## L1-Minimization using SciPy\n",
    "def L1_norm(x):\n",
    "    return np.linalg.norm(x,ord=1)\n",
    "\n",
    "constr = ({'type': 'eq', 'fun': lambda x:  Theta @ x - y})\n",
    "x0 = np.linalg.pinv(Theta) @ y \n",
    "res = minimize(L1_norm, x0, method='SLSQP',constraints=constr)\n",
    "s = res.x\n",
    "xrecon = idct(s)"
   ]
  },
  {
   "cell_type": "code",
   "execution_count": 8,
   "metadata": {},
   "outputs": [
    {
     "name": "stdout",
     "output_type": "stream",
     "text": [
      "[-0.00061083  0.00170517 -0.00165844 ...  0.00034396 -0.00308204\n",
      " -0.00065701]\n"
     ]
    }
   ],
   "source": [
    "print(s)"
   ]
  },
  {
   "cell_type": "code",
   "execution_count": 13,
   "metadata": {},
   "outputs": [
    {
     "data": {
      "text/plain": [
       "(128, 4096)"
      ]
     },
     "execution_count": 13,
     "metadata": {},
     "output_type": "execute_result"
    }
   ],
   "source": [
    "Theta.shape"
   ]
  },
  {
   "cell_type": "code",
   "execution_count": 14,
   "metadata": {},
   "outputs": [
    {
     "data": {
      "text/plain": [
       "(128,)"
      ]
     },
     "execution_count": 14,
     "metadata": {},
     "output_type": "execute_result"
    }
   ],
   "source": [
    "y.shape"
   ]
  },
  {
   "cell_type": "code",
   "execution_count": 58,
   "metadata": {},
   "outputs": [
    {
     "name": "stdout",
     "output_type": "stream",
     "text": [
      "[5.61767578 6.51464844 3.92578125 ... 8.16552734 5.65673828 4.42578125] [4.2239904  4.22398825 4.22398395 ... 2.0861718  2.0861675  2.08616535]\n"
     ]
    }
   ],
   "source": [
    "unmitis = []\n",
    "unmitis_recon = []\n",
    "# for i in range(4):\n",
    "data = np.load(\"figs/cnt_opt_miti/2022-07-23_14:32:44/G31_nQ8_p2/varIdx3.npz\", allow_pickle=True)\n",
    "unmitis = data['unmitis']\n",
    "unmitis_recon = data['unmitis_recon']\n",
    "print(unmitis, unmitis_recon)\n"
   ]
  },
  {
   "cell_type": "code",
   "execution_count": 73,
   "metadata": {},
   "outputs": [],
   "source": [
    "def draw_PSD(x):\n",
    "    n = x.shape[0]\n",
    "    freq = np.arange(n)\n",
    "    # L = int(np.floor(n/2))\n",
    "    L = 10\n",
    "\n",
    "    fig, axs = plt.subplots()\n",
    "    xt = np.fft.fft(x, n) # computes the (fast) discrete fourier transform\n",
    "    PSD = xt * np.conj(xt) / n # Power spectrum (how much power in each freq)\n",
    "\n",
    "    # axs.set_xlim(0, 1024)\n",
    "    axs.set_ylim(0, 1024)\n",
    "    axs.plot(freq[1:L], PSD[1:L], color='r', linewidth=2)\n",
    "    plt.show()"
   ]
  },
  {
   "cell_type": "code",
   "execution_count": 74,
   "metadata": {},
   "outputs": [
    {
     "data": {
      "image/png": "[encoded data removed]",
      "text/plain": [
       "<Figure size 432x288 with 1 Axes>"
      ]
     },
     "metadata": {
      "needs_background": "light"
     },
     "output_type": "display_data"
    },
    {
     "data": {
      "image/png": "[encoded data removed]",
      "text/plain": [
       "<Figure size 432x288 with 1 Axes>"
      ]
     },
     "metadata": {
      "needs_background": "light"
     },
     "output_type": "display_data"
    }
   ],
   "source": [
    "draw_PSD(unmitis)\n",
    "draw_PSD(unmitis_recon)"
   ]
  },
  {
   "cell_type": "code",
   "execution_count": null,
   "metadata": {},
   "outputs": [],
   "source": []
  },
  {
   "cell_type": "code",
   "execution_count": null,
   "metadata": {},
   "outputs": [],
   "source": []
  }
 ],
 "metadata": {
  "kernelspec": {
   "display_name": "Python 3.9.13 ('py39_mitiq')",
   "language": "python",
   "name": "python3"
  },
  "language_info": {
   "codemirror_mode": {
    "name": "ipython",
    "version": 3
   },
   "file_extension": ".py",
   "mimetype": "text/x-python",
   "name": "python",
   "nbconvert_exporter": "python",
   "pygments_lexer": "ipython3",
   "version": "3.9.13"
  },
  "vscode": {
   "interpreter": {
    "hash": "96fb422eda4202d64a5d32f92bf4bc9789b7b1bb6dc4fd0c3326766fb0959649"
   }
  }
 },
 "nbformat": 4,
 "nbformat_minor": 2
}
