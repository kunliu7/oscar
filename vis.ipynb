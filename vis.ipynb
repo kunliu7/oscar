{
 "cells": [
  {
   "cell_type": "code",
   "execution_count": 1,
   "metadata": {},
   "outputs": [],
   "source": [
    "# %matplotlib inline\n",
    "import numpy as np\n",
    "import matplotlib.pyplot as plt"
   ]
  },
  {
   "cell_type": "code",
   "execution_count": 39,
   "metadata": {},
   "outputs": [],
   "source": [
    "def vis_landscape():\n",
    "    def f(x, y):\n",
    "        print(x, y)\n",
    "        return np.sin(np.sqrt(x ** 2 + y ** 2))\n",
    "\n",
    "    x = np.linspace(-6, 6, 30)\n",
    "    y = np.linspace(-6, 6, 30)\n",
    "\n",
    "    X, Y = np.meshgrid(x, y)\n",
    "    Z = f(X, Y)\n",
    "\n",
    "    print(Z.shape)\n",
    "\n",
    "    fig = plt.figure(figsize=[10, 10])\n",
    "    ax = plt.axes(projection='3d')\n",
    "    # ax.contour3D(X, Y, Z, 50, cmap='binary')\n",
    "    ax.plot_surface(X, Y, Z, rstride=1, cstride=1,\n",
    "                cmap='viridis', edgecolor='none')\n",
    "    ax.set_xlabel('x')\n",
    "    ax.set_ylabel('y')\n",
    "    ax.set_zlabel('z')\n",
    "    # ax.view_init(60, 35)\n",
    "    fig.savefig(f'figs/test.png')"
   ]
  },
  {
   "cell_type": "code",
   "execution_count": 23,
   "metadata": {},
   "outputs": [],
   "source": [
    "def vis_landscape():\n",
    "    def f(x, y):\n",
    "        # z = np.sin(np.sqrt(x ** 2 + y ** 2))\n",
    "        z = x * 4 + y\n",
    "        print(z)\n",
    "        return z\n",
    "\n",
    "    # x = np.linspace(-6, 6, 30)\n",
    "    # y = np.linspace(-6, 6, 30)\n",
    "\n",
    "    x = np.arange(4)\n",
    "    y = np.arange(4)\n",
    "\n",
    "    X, Y = np.meshgrid(x, y)\n",
    "    Z = f(X, Y)\n",
    "    z_min, z_max = Z.min(), Z.max()\n",
    "    # print(Z.shape)\n",
    "\n",
    "    # fig = plt.figure(figsize=[10, 10])\n",
    "    fig, ax = plt.subplots()\n",
    "\n",
    "    # ax = plt.axes(projection='3d')\n",
    "    # ax.contour3D(X, Y, Z, 50, cmap='binary')\n",
    "    # ax.plot_surface(X, Y, Z, rstride=1, cstride=1,\n",
    "    #             cmap='viridis', edgecolor='none')\n",
    "    c = ax.pcolormesh(X, Y, Z, cmap='viridis', vmin=z_min, vmax=z_max)\n",
    "    ax.axis([x.min(), x.max(), y.min(), y.max()])\n",
    "    fig.colorbar(c, ax=ax)\n",
    "    \n",
    "    plt.plot(0,0, \"ro\")\n",
    "    # ax.set_xlabel('x')\n",
    "    # ax.set_ylabel('y')\n",
    "    # ax.set_zlabel('z')\n",
    "    # ax.view_init(60, 35)\n",
    "    fig.savefig(f'figs/test.png')"
   ]
  },
  {
   "cell_type": "code",
   "execution_count": 24,
   "metadata": {},
   "outputs": [
    {
     "name": "stdout",
     "output_type": "stream",
     "text": [
      "[[ 0  4  8 12]\n",
      " [ 1  5  9 13]\n",
      " [ 2  6 10 14]\n",
      " [ 3  7 11 15]]\n"
     ]
    },
    {
     "data": {
      "image/png": "[encoded data removed]",
      "text/plain": [
       "<Figure size 432x288 with 2 Axes>"
      ]
     },
     "metadata": {
      "needs_background": "light"
     },
     "output_type": "display_data"
    }
   ],
   "source": [
    "vis_landscape()"
   ]
  },
  {
   "cell_type": "code",
   "execution_count": 37,
   "metadata": {},
   "outputs": [
    {
     "name": "stdout",
     "output_type": "stream",
     "text": [
      "[-3.14159265  3.14159265]\n",
      "[-1.57079633  1.57079633]\n"
     ]
    }
   ],
   "source": [
    "beta = np.linspace(-np.pi, np.pi, 2)\n",
    "print(beta)\n",
    "# beta = np.expand_dims(beta, axis=1)\n",
    "# print(beta)\n",
    "gamma = np.linspace(-np.pi/2, np.pi/2, 2)\n",
    "# gamma = np.expand_dims(gamma, axis=1)\n",
    "print(gamma)\n",
    "X, Y = np.meshgrid(beta, gamma, indexing='ij')\n",
    "\n"
   ]
  },
  {
   "cell_type": "code",
   "execution_count": 38,
   "metadata": {},
   "outputs": [
    {
     "name": "stdout",
     "output_type": "stream",
     "text": [
      "[[-3.14159265 -3.14159265]\n",
      " [ 3.14159265  3.14159265]]\n",
      "[[-1.57079633  1.57079633]\n",
      " [-1.57079633  1.57079633]]\n"
     ]
    }
   ],
   "source": [
    "print(X)\n",
    "print(Y)"
   ]
  },
  {
   "cell_type": "code",
   "execution_count": 2,
   "metadata": {},
   "outputs": [
    {
     "data": {
      "image/png": "[encoded data removed]",
      "text/plain": [
       "<Figure size 432x288 with 2 Axes>"
      ]
     },
     "metadata": {
      "needs_background": "light"
     },
     "output_type": "display_data"
    }
   ],
   "source": [
    "def heatmap2d(arr: np.ndarray):\n",
    "    plt.imshow(arr, cmap='viridis')\n",
    "    plt.colorbar()\n",
    "    plt.show()\n",
    "\n",
    "\n",
    "test_array = np.arange(100 * 100).reshape(100, 100)\n",
    "heatmap2d(test_array)"
   ]
  },
  {
   "cell_type": "code",
   "execution_count": null,
   "metadata": {},
   "outputs": [],
   "source": []
  }
 ],
 "metadata": {
  "interpreter": {
   "hash": "0393e236796cacb7c538bc729e3ba9391cb30b3472021ef65a864b2d8cba7847"
  },
  "kernelspec": {
   "display_name": "Python 3.8.12 ('qaoa')",
   "language": "python",
   "name": "python3"
  },
  "language_info": {
   "codemirror_mode": {
    "name": "ipython",
    "version": 3
   },
   "file_extension": ".py",
   "mimetype": "text/x-python",
   "name": "python",
   "nbconvert_exporter": "python",
   "pygments_lexer": "ipython3",
   "version": "3.8.12"
  },
  "orig_nbformat": 4
 },
 "nbformat": 4,
 "nbformat_minor": 2
}
