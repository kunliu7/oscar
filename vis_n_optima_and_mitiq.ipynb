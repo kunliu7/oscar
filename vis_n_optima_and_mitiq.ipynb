{
 "cells": [
  {
   "cell_type": "code",
   "execution_count": 2,
   "metadata": {},
   "outputs": [
    {
     "ename": "ModuleNotFoundError",
     "evalue": "No module named 'mitiq'",
     "output_type": "error",
     "traceback": [
      "\u001b[0;31m---------------------------------------------------------------------------\u001b[0m",
      "\u001b[0;31mModuleNotFoundError\u001b[0m                       Traceback (most recent call last)",
      "\u001b[1;32m/Users/kunliu/Documents/QAOAKit/NIQAOAKit/vis_n_optima_and_mitiq.ipynb Cell 1'\u001b[0m in \u001b[0;36m<cell line: 1>\u001b[0;34m()\u001b[0m\n\u001b[0;32m----> <a href='vscode-notebook-cell:/Users/kunliu/Documents/QAOAKit/NIQAOAKit/vis_n_optima_and_mitiq.ipynb#ch0000000?line=0'>1</a>\u001b[0m \u001b[39mfrom\u001b[39;00m \u001b[39mmitiq\u001b[39;00m \u001b[39mimport\u001b[39;00m zne, benchmarks\n\u001b[1;32m      <a href='vscode-notebook-cell:/Users/kunliu/Documents/QAOAKit/NIQAOAKit/vis_n_optima_and_mitiq.ipynb#ch0000000?line=1'>2</a>\u001b[0m \u001b[39mimport\u001b[39;00m \u001b[39mcirq\u001b[39;00m\n\u001b[1;32m      <a href='vscode-notebook-cell:/Users/kunliu/Documents/QAOAKit/NIQAOAKit/vis_n_optima_and_mitiq.ipynb#ch0000000?line=4'>5</a>\u001b[0m \u001b[39mdef\u001b[39;00m \u001b[39mexecute\u001b[39m(circuit: cirq\u001b[39m.\u001b[39mCircuit, noise_level: \u001b[39mfloat\u001b[39m \u001b[39m=\u001b[39m \u001b[39m0.001\u001b[39m) \u001b[39m-\u001b[39m\u001b[39m>\u001b[39m \u001b[39mfloat\u001b[39m:\n",
      "\u001b[0;31mModuleNotFoundError\u001b[0m: No module named 'mitiq'"
     ]
    }
   ],
   "source": [
    "from mitiq import zne, benchmarks\n",
    "import cirq\n",
    "\n",
    "\n",
    "def execute(circuit: cirq.Circuit, noise_level: float = 0.001) -> float:\n",
    "    \"\"\"Returns Tr[ρ |0⟩⟨0|] where ρ is the state prepared by the circuit with depolarizing noise.\"\"\"\n",
    "    noisy_circuit = circuit.with_noise(cirq.depolarize(p=noise_level))\n",
    "    return cirq.DensityMatrixSimulator().simulate(noisy_circuit).final_density_matrix[0, 0].real\n",
    "\n",
    "\n",
    "circuit: cirq.Circuit = benchmarks.generate_rb_circuits(n_qubits=1, num_cliffords=50)[0]\n",
    "\n",
    "true_value = execute(circuit, noise_level=0.0)       # Ideal quantum computer.\n",
    "noisy_value = execute(circuit)                       # Noisy quantum computer.\n",
    "zne_value = zne.execute_with_zne(circuit, execute)   # Noisy quantum computer + Mitiq.\n",
    "\n",
    "print(f\"Error (w/o  Mitiq): %0.4f\" %abs((true_value - noisy_value) / true_value))\n",
    "print(f\"Error (with Mitiq): %0.4f\" %abs((true_value - zne_value) / true_value))"
   ]
  },
  {
   "cell_type": "code",
   "execution_count": null,
   "metadata": {},
   "outputs": [],
   "source": []
  }
 ],
 "metadata": {
  "kernelspec": {
   "display_name": "Python 3.8.12 ('py38_cirq')",
   "language": "python",
   "name": "python3"
  },
  "language_info": {
   "codemirror_mode": {
    "name": "ipython",
    "version": 3
   },
   "file_extension": ".py",
   "mimetype": "text/x-python",
   "name": "python",
   "nbconvert_exporter": "python",
   "pygments_lexer": "ipython3",
   "version": "3.8.12"
  },
  "orig_nbformat": 4,
  "vscode": {
   "interpreter": {
    "hash": "3ac8dc9322b540ecfaee3780ab90338b93e786a1ec8ded5a6c621ea73503e83f"
   }
  }
 },
 "nbformat": 4,
 "nbformat_minor": 2
}
