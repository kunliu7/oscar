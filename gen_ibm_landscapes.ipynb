{
 "cells": [
  {
   "cell_type": "code",
   "execution_count": null,
   "metadata": {},
   "outputs": [
    {
     "ename": "",
     "evalue": "",
     "output_type": "error",
     "traceback": [
      "\u001b[1;31mRunning cells with 'qiskit_latest' requires the ipykernel package.\n",
      "\u001b[1;31mRun the following command to install 'ipykernel' into the Python environment. \n",
      "\u001b[1;31mCommand: 'conda install -n qiskit_latest ipykernel --update-deps --force-reinstall'"
     ]
    }
   ],
   "source": [
    "import argparse\n",
    "import os\n",
    "import sys\n",
    "from functools import partial\n",
    "from qiskit import IBMQ\n",
    "import numpy as np\n",
    "import networkx as nx\n",
    "from qiskit import QuantumCircuit, transpile\n",
    "from qiskit_aer import AerSimulator\n",
    "from qiskit_aer.noise import NoiseModel, depolarizing_error\n",
    "from qiskit.algorithms import VQE, QAOA, NumPyMinimumEigensolver\n",
    "from qiskit.algorithms.optimizers import COBYLA, SPSA, SLSQP\n",
    "from qiskit.utils import QuantumInstance\n",
    "from qiskit.opflow import AerPauliExpectation, PauliExpectation, StateFn, CircuitStateFn\n",
    "from qiskit_optimization.algorithms import MinimumEigenOptimizer\n",
    "from qiskit_optimization.applications import Maxcut, SKModel\n",
    "# from qiskit_optimization.translators import from_docplex_mp\n",
    "from qiskit.utils import algorithm_globals\n",
    "# from docplex.mp.model import Model\n"
   ]
  },
  {
   "cell_type": "code",
   "execution_count": 2,
   "metadata": {},
   "outputs": [
    {
     "data": {
      "text/plain": [
       "_StoreAction(option_strings=['--gamma-steps'], dest='gamma_steps', nargs=None, const=None, default=100, type=<class 'int'>, choices=None, required=False, help=None, metavar=None)"
      ]
     },
     "execution_count": 2,
     "metadata": {},
     "output_type": "execute_result"
    }
   ],
   "source": [
    "\n",
    "parser = argparse.ArgumentParser()\n",
    "parser.add_argument(\"--problem\", type=str, default=\"maxcut\")\n",
    "parser.add_argument(\"-n\", type=int, default=16)\n",
    "parser.add_argument(\"-p\", type=int, default=1)\n",
    "parser.add_argument(\"-s\", \"--seed\", type=int, default=0)\n",
    "parser.add_argument(\"-b\", \"--backend\", type=str, default=\"sv\")\n",
    "parser.add_argument(\"--cpu\", default=False, action=\"store_true\")\n",
    "parser.add_argument(\"--no-aer\", dest=\"aer\", default=True, action=\"store_false\")\n",
    "parser.add_argument(\"--noise\", type=str, default=\"ideal\")\n",
    "parser.add_argument(\"--p1\", type=float, default=0.001)\n",
    "parser.add_argument(\"--p2\", type=float, default=0.005)\n",
    "parser.add_argument(\"--beta-steps\", type=int, default=50)\n",
    "parser.add_argument(\"--gamma-steps\", type=int, default=100)\n"
   ]
  },
  {
   "cell_type": "code",
   "execution_count": 3,
   "metadata": {},
   "outputs": [],
   "source": [
    "def generate_landscape(args):\n",
    "    print(args.__dict__)\n",
    "    n = args.n\n",
    "    p = args.p\n",
    "    seed = args.seed\n",
    "    backend_config = args.backend.lower()\n",
    "    noise = args.noise.lower()\n",
    "\n",
    "    if backend_config == \"sv\":\n",
    "        method = \"statevector\"\n",
    "    else:\n",
    "        raise NotImplementedError(f\"Backend {backend_config} not implemented yet\")\n",
    "\n",
    "    ## Add provider details\n",
    "    backend = provider.get_backend('ibm_lagos')\n",
    "\n",
    "\n",
    "    # --------------- define the problem ------------\n",
    "\n",
    "    if args.problem == \"maxcut\":\n",
    "        graph = nx.random_regular_graph(3, n, seed)\n",
    "        problem = Maxcut(graph).to_quadratic_program()\n",
    "    elif args.problem == \"skmodel\":\n",
    "        problem = SKModel(n, seed).to_quadratic_program()\n",
    "    else:\n",
    "        raise NotImplementedError(f\"{args.problem} problem is not implemented\")\n",
    "\n",
    "    H, offset = problem.to_ising()\n",
    "\n",
    "    algorithm_globals.random_seed = seed\n",
    "\n",
    "    # TODO: you might need to modify this to config IBM backend\n",
    "    quantum_instance = QuantumInstance(\n",
    "        backend=backend,\n",
    "        seed_simulator=seed,\n",
    "        seed_transpiler=seed,\n",
    "        optimization_level = None,\n",
    "    )\n",
    "\n",
    "    algorithm = QAOA(\n",
    "        SPSA(),\n",
    "        reps=p,\n",
    "        quantum_instance=quantum_instance,\n",
    "        expectation=AerPauliExpectation() if args.aer else None,\n",
    "    )\n",
    "    algorithm._check_operator_ansatz(H)\n",
    "    energy_evaluation, expectation = algorithm.get_energy_evaluation(\n",
    "        H, return_expectation=True\n",
    "    )\n",
    "\n",
    "    # ------------- transpile ----------------\n",
    "    def energy_evaluation_transpiled(parameters: np.ndarray) -> float:\n",
    "        qc = quantum_instance.transpile(algorithm.ansatz.bind_parameters(parameters))[0]\n",
    "        return qc\n",
    "\n",
    "    energy_evaluation = energy_evaluation_transpiled\n",
    "    \n",
    "    \n",
    "\n",
    "#     # ------------- prepare parameters and execute the circuit --------------\n",
    "    data = []\n",
    "    lst_circs = []\n",
    "    lst_params = []\n",
    "    beta_bound = np.pi / 4 / p\n",
    "    gamma_bound = np.pi / 2 / p\n",
    "\n",
    "    grid = np.array(\n",
    "        np.meshgrid(\n",
    "            *np.linspace([-beta_bound] * p, [beta_bound] * p, args.beta_steps, axis=1),\n",
    "            *np.linspace([-gamma_bound] * p, [gamma_bound] * p, args.gamma_steps, axis=1),\n",
    "            indexing=\"ij\",\n",
    "        )\n",
    "    )\n",
    "    \n",
    "    \n",
    "    for params in grid.transpose((*range(1, 2 * p + 1), 0)).reshape(-1, 2 * p):\n",
    "        circ = energy_evaluation_transpiled(params) # ! execute the circuit\n",
    "        circ.measure_all()\n",
    "        tcirc=transpile(circ, backend=backend, seed_transpiler=11, optimization_level=3)      \n",
    "        lst_circs.append(tcirc)\n",
    "        lst_params.append(params)\n",
    "        \n",
    "    \n",
    "    return (lst_circs,lst_params)\n",
    "\n"
   ]
  },
  {
   "cell_type": "code",
   "execution_count": 5,
   "metadata": {},
   "outputs": [
    {
     "name": "stdout",
     "output_type": "stream",
     "text": [
      "{'problem': 'maxcut', 'n': 6, 'p': 1, 'seed': 1, 'backend': 'sv', 'cpu': False, 'aer': True, 'noise': 'depolar', 'p1': 0.0001, 'p2': 0.008, 'beta_steps': 50, 'gamma_steps': 100}\n"
     ]
    },
    {
     "name": "stderr",
     "output_type": "stream",
     "text": [
      "ibmqfactory.load_account:WARNING:2023-02-14 01:49:40,243: Credentials are already in use. The existing account in the session will be replaced.\n"
     ]
    }
   ],
   "source": [
    "import pickle\n",
    "from pathlib import Path\n",
    "\n",
    "\n",
    "\n",
    "\n",
    "for p in [1]:\n",
    "    for seed in [1]: # three instances\n",
    "        cmd = f\"-n 6 -p {p} --seed {seed} --noise depolar --p1 0.0001 --p2 0.008\"\n",
    "        args = parser.parse_args(list(cmd.split(' ')))\n",
    "        lst_circs,lst_params = generate_landscape(args)\n",
    "        path = \"./IBM-M2/\"\n",
    "        name = \"Problem-\"+str(seed)+\"P=\"+str(p)+\"circ_param_lst.pkl\"\n",
    "        with open(path+name, 'wb') as f:\n",
    "            pickle.dump([lst_circs,lst_params], f)\n",
    "        \n",
    "        "
   ]
  },
  {
   "cell_type": "code",
   "execution_count": 6,
   "metadata": {},
   "outputs": [],
   "source": [
    "mynewlist=[]\n",
    "for p in [1]:\n",
    "    for seed in [1]: # three instances\n",
    "        path = \"./IBM-M2/\"\n",
    "        name = \"Problem-\"+str(seed)+\"P=\"+str(p)+\"circ_param_lst.pkl\"\n",
    "        with open(path+name, 'rb') as f:\n",
    "            mynewlist = pickle.load(f)\n",
    "        "
   ]
  },
  {
   "cell_type": "code",
   "execution_count": 7,
   "metadata": {},
   "outputs": [],
   "source": [
    "circ_lst = []\n",
    "for circ in mynewlist[0]:\n",
    "    circ.remove_final_measurements()\n",
    "    circ.measure_active()\n",
    "    circ_lst.append(circ)"
   ]
  },
  {
   "cell_type": "code",
   "execution_count": null,
   "metadata": {},
   "outputs": [],
   "source": []
  },
  {
   "cell_type": "code",
   "execution_count": null,
   "metadata": {},
   "outputs": [],
   "source": [
    "## Add provider details"
   ]
  },
  {
   "cell_type": "code",
   "execution_count": 9,
   "metadata": {},
   "outputs": [
    {
     "name": "stdout",
     "output_type": "stream",
     "text": [
      "20\n"
     ]
    }
   ],
   "source": [
    "job_limit = backend.job_limit()\n",
    "print(job_limit.maximum_jobs)"
   ]
  },
  {
   "cell_type": "code",
   "execution_count": 10,
   "metadata": {},
   "outputs": [],
   "source": [
    "M1_Jobs =[]\n",
    "for i in range(0,len(circ_lst),299):\n",
    "    \n",
    "    \n",
    "    if i+299>len(circ_lst):\n",
    "        job = backend.run(circ_lst[i:len(circ_lst)],shots=1024, memory=True)\n",
    "        M1_Jobs.append(job)\n",
    "        job.status()\n",
    "    else:    \n",
    "        job = backend.run(circ_lst[i:i+299],shots=1024, memory=True)\n",
    "        job.status()\n",
    "        M1_Jobs.append(job)\n",
    "\n",
    "    "
   ]
  },
  {
   "cell_type": "code",
   "execution_count": 11,
   "metadata": {},
   "outputs": [
    {
     "name": "stderr",
     "output_type": "stream",
     "text": [
      "C:\\Users\\swamit.cs.wisc.edu\\AppData\\Local\\Temp\\ipykernel_27540\\1061908471.py:4: DeprecationWarning: The `backends` provider attribute is deprecated. Please use `provider.backend` (singular) instead. You can continue to use `provider.backends()` to retrieve all backends.\n",
      "  pickle.dump(M1_Jobs, f)\n"
     ]
    }
   ],
   "source": [
    "path = \"./IBM-M2/\"\n",
    "name = \"Problem-\"+str(seed)+\"P=\"+str(p)+\"circ_param_lst.pkl\"\n",
    "with open(path+'results'+name, 'wb') as f:\n",
    "    pickle.dump(M1_Jobs, f)"
   ]
  },
  {
   "cell_type": "code",
   "execution_count": null,
   "metadata": {},
   "outputs": [],
   "source": []
  },
  {
   "cell_type": "code",
   "execution_count": 12,
   "metadata": {},
   "outputs": [],
   "source": [
    "all_counts = []\n",
    "for job in M1_Jobs:\n",
    "    count_lst = job.result().get_counts()\n",
    "    all_counts.append(count_lst) \n",
    "    "
   ]
  },
  {
   "cell_type": "code",
   "execution_count": 14,
   "metadata": {},
   "outputs": [],
   "source": [
    "import itertools\n",
    "list2d = all_counts\n",
    "merged = list(itertools.chain.from_iterable(list2d))\n",
    "path = \"./IBM-M2/\"\n",
    "name = \"Experimental_Data,Seed-\"+str(seed)+\"P=\"+str(p)+\"circ_param_lst.pkl\"\n",
    "with open(path+name, 'wb') as f:\n",
    "    pickle.dump([merged,mynewlist], f)"
   ]
  },
  {
   "cell_type": "code",
   "execution_count": null,
   "metadata": {},
   "outputs": [],
   "source": []
  }
 ],
 "metadata": {
  "kernelspec": {
   "display_name": "qiskit_latest",
   "language": "python",
   "name": "python3"
  },
  "language_info": {
   "codemirror_mode": {
    "name": "ipython",
    "version": 3
   },
   "file_extension": ".py",
   "mimetype": "text/x-python",
   "name": "python",
   "nbconvert_exporter": "python",
   "pygments_lexer": "ipython3",
   "version": "3.10.9"
  },
  "vscode": {
   "interpreter": {
    "hash": "1cfe83fec8e00998f88dcc564f097010aa405553f21e6b5ff9b1f81004a6f146"
   }
  }
 },
 "nbformat": 4,
 "nbformat_minor": 4
}
