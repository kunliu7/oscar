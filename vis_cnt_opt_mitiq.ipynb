{
 "cells": [
  {
   "cell_type": "code",
   "execution_count": 1,
   "metadata": {},
   "outputs": [],
   "source": [
    "import numpy as np\n",
    "import pandas as pd\n",
    "import matplotlib.pyplot as plt\n",
    "import networkx as nx\n",
    "\n",
    "from QAOAKit import (\n",
    "    opt_angles_for_graph,\n",
    "    get_fixed_angles,\n",
    "    get_graph_id,\n",
    "    get_graph_from_id,\n",
    "    angles_to_qaoa_format,\n",
    "    beta_to_qaoa_format,\n",
    "    gamma_to_qaoa_format,\n",
    "    angles_to_qiskit_format,\n",
    "    angles_to_qtensor_format,\n",
    "    get_3_reg_dataset_table,\n",
    "    get_3_reg_dataset_table_row,\n",
    "    get_full_qaoa_dataset_table_row,\n",
    "    get_full_qaoa_dataset_table,\n",
    "    get_fixed_angle_dataset_table,\n",
    "    get_fixed_angle_dataset_table_row,\n",
    "    qaoa_maxcut_energy,\n",
    "    noisy_qaoa_maxcut_energy,\n",
    "    angles_from_qiskit_format,\n",
    "\n",
    ")"
   ]
  },
  {
   "cell_type": "code",
   "execution_count": 2,
   "metadata": {},
   "outputs": [
    {
     "name": "stdout",
     "output_type": "stream",
     "text": [
      "Index(['G', 'n', 'C_{true opt}', 'C_fixed', 'C_opt', 'beta', 'gamma',\n",
      "       'all beta (degenerate optima)', 'all gamma (degenerate optima)',\n",
      "       'theta'],\n",
      "      dtype='object')\n"
     ]
    },
    {
     "data": {
      "text/html": [
       "<div>\n",
       "<style scoped>\n",
       "    .dataframe tbody tr th:only-of-type {\n",
       "        vertical-align: middle;\n",
       "    }\n",
       "\n",
       "    .dataframe tbody tr th {\n",
       "        vertical-align: top;\n",
       "    }\n",
       "\n",
       "    .dataframe thead th {\n",
       "        text-align: right;\n",
       "    }\n",
       "</style>\n",
       "<table border=\"1\" class=\"dataframe\">\n",
       "  <thead>\n",
       "    <tr style=\"text-align: right;\">\n",
       "      <th></th>\n",
       "      <th></th>\n",
       "      <th>G</th>\n",
       "      <th>n</th>\n",
       "      <th>C_{true opt}</th>\n",
       "      <th>C_fixed</th>\n",
       "      <th>C_opt</th>\n",
       "      <th>beta</th>\n",
       "      <th>gamma</th>\n",
       "      <th>all beta (degenerate optima)</th>\n",
       "      <th>all gamma (degenerate optima)</th>\n",
       "      <th>theta</th>\n",
       "    </tr>\n",
       "    <tr>\n",
       "      <th>pynauty_cert</th>\n",
       "      <th>p_max</th>\n",
       "      <th></th>\n",
       "      <th></th>\n",
       "      <th></th>\n",
       "      <th></th>\n",
       "      <th></th>\n",
       "      <th></th>\n",
       "      <th></th>\n",
       "      <th></th>\n",
       "      <th></th>\n",
       "      <th></th>\n",
       "    </tr>\n",
       "  </thead>\n",
       "  <tbody>\n",
       "    <tr>\n",
       "      <th rowspan=\"10\" valign=\"top\">b'\\x00\\x00\\x00\\x00\\x00\\x00\\x00p\\x00\\x00\\x00\\x00\\x00\\x00\\x00\\xb0\\x00\\x00\\x00\\x00\\x00\\x00\\x00\\xd0\\x00\\x00\\x00\\x00\\x00\\x00\\x00\\xe0'</th>\n",
       "      <th>1</th>\n",
       "      <td>(0, 1, 2, 3)</td>\n",
       "      <td>4</td>\n",
       "      <td>4.0</td>\n",
       "      <td>3.488031</td>\n",
       "      <td>3.697516</td>\n",
       "      <td>[0.41009128896428304]</td>\n",
       "      <td>[-0.1564556468757921]</td>\n",
       "      <td>[[0.41009128896428304], [0.41009128896428304],...</td>\n",
       "      <td>[[-0.1564556468757921], [-0.8435443531242078],...</td>\n",
       "      <td>[-0.1564556468757921, 0.41009128896428304]</td>\n",
       "    </tr>\n",
       "    <tr>\n",
       "      <th>2</th>\n",
       "      <td>(0, 1, 2, 3)</td>\n",
       "      <td>4</td>\n",
       "      <td>4.0</td>\n",
       "      <td>3.443514</td>\n",
       "      <td>4.000000</td>\n",
       "      <td>[0.28529502533693074, 0.3670557719502767]</td>\n",
       "      <td>[-0.6421067872213594, -0.43544682164231946]</td>\n",
       "      <td>[[0.28529502533693074, 0.3670557719502767], [0...</td>\n",
       "      <td>[[-0.6421067872213594, -0.43544682164231946], ...</td>\n",
       "      <td>[-0.6421067872213594, -0.43544682164231946, 0....</td>\n",
       "    </tr>\n",
       "    <tr>\n",
       "      <th>3</th>\n",
       "      <td>(0, 1, 2, 3)</td>\n",
       "      <td>4</td>\n",
       "      <td>4.0</td>\n",
       "      <td>3.725746</td>\n",
       "      <td>NaN</td>\n",
       "      <td>NaN</td>\n",
       "      <td>NaN</td>\n",
       "      <td>NaN</td>\n",
       "      <td>NaN</td>\n",
       "      <td>NaN</td>\n",
       "    </tr>\n",
       "    <tr>\n",
       "      <th>4</th>\n",
       "      <td>(0, 1, 2, 3)</td>\n",
       "      <td>4</td>\n",
       "      <td>4.0</td>\n",
       "      <td>3.799435</td>\n",
       "      <td>NaN</td>\n",
       "      <td>NaN</td>\n",
       "      <td>NaN</td>\n",
       "      <td>NaN</td>\n",
       "      <td>NaN</td>\n",
       "      <td>NaN</td>\n",
       "    </tr>\n",
       "    <tr>\n",
       "      <th>5</th>\n",
       "      <td>(0, 1, 2, 3)</td>\n",
       "      <td>4</td>\n",
       "      <td>4.0</td>\n",
       "      <td>3.902329</td>\n",
       "      <td>NaN</td>\n",
       "      <td>NaN</td>\n",
       "      <td>NaN</td>\n",
       "      <td>NaN</td>\n",
       "      <td>NaN</td>\n",
       "      <td>NaN</td>\n",
       "    </tr>\n",
       "    <tr>\n",
       "      <th>6</th>\n",
       "      <td>(0, 1, 2, 3)</td>\n",
       "      <td>4</td>\n",
       "      <td>4.0</td>\n",
       "      <td>3.821207</td>\n",
       "      <td>NaN</td>\n",
       "      <td>NaN</td>\n",
       "      <td>NaN</td>\n",
       "      <td>NaN</td>\n",
       "      <td>NaN</td>\n",
       "      <td>NaN</td>\n",
       "    </tr>\n",
       "    <tr>\n",
       "      <th>7</th>\n",
       "      <td>(0, 1, 2, 3)</td>\n",
       "      <td>4</td>\n",
       "      <td>4.0</td>\n",
       "      <td>3.856606</td>\n",
       "      <td>NaN</td>\n",
       "      <td>NaN</td>\n",
       "      <td>NaN</td>\n",
       "      <td>NaN</td>\n",
       "      <td>NaN</td>\n",
       "      <td>NaN</td>\n",
       "    </tr>\n",
       "    <tr>\n",
       "      <th>8</th>\n",
       "      <td>(0, 1, 2, 3)</td>\n",
       "      <td>4</td>\n",
       "      <td>4.0</td>\n",
       "      <td>3.902939</td>\n",
       "      <td>NaN</td>\n",
       "      <td>NaN</td>\n",
       "      <td>NaN</td>\n",
       "      <td>NaN</td>\n",
       "      <td>NaN</td>\n",
       "      <td>NaN</td>\n",
       "    </tr>\n",
       "    <tr>\n",
       "      <th>9</th>\n",
       "      <td>(0, 1, 2, 3)</td>\n",
       "      <td>4</td>\n",
       "      <td>4.0</td>\n",
       "      <td>3.869821</td>\n",
       "      <td>NaN</td>\n",
       "      <td>NaN</td>\n",
       "      <td>NaN</td>\n",
       "      <td>NaN</td>\n",
       "      <td>NaN</td>\n",
       "      <td>NaN</td>\n",
       "    </tr>\n",
       "    <tr>\n",
       "      <th>10</th>\n",
       "      <td>(0, 1, 2, 3)</td>\n",
       "      <td>4</td>\n",
       "      <td>4.0</td>\n",
       "      <td>3.909461</td>\n",
       "      <td>NaN</td>\n",
       "      <td>NaN</td>\n",
       "      <td>NaN</td>\n",
       "      <td>NaN</td>\n",
       "      <td>NaN</td>\n",
       "      <td>NaN</td>\n",
       "    </tr>\n",
       "  </tbody>\n",
       "</table>\n",
       "</div>"
      ],
      "text/plain": [
       "                                                                     G  n  \\\n",
       "pynauty_cert                                       p_max                    \n",
       "b'\\x00\\x00\\x00\\x00\\x00\\x00\\x00p\\x00\\x00\\x00\\x00... 1      (0, 1, 2, 3)  4   \n",
       "                                                   2      (0, 1, 2, 3)  4   \n",
       "                                                   3      (0, 1, 2, 3)  4   \n",
       "                                                   4      (0, 1, 2, 3)  4   \n",
       "                                                   5      (0, 1, 2, 3)  4   \n",
       "                                                   6      (0, 1, 2, 3)  4   \n",
       "                                                   7      (0, 1, 2, 3)  4   \n",
       "                                                   8      (0, 1, 2, 3)  4   \n",
       "                                                   9      (0, 1, 2, 3)  4   \n",
       "                                                   10     (0, 1, 2, 3)  4   \n",
       "\n",
       "                                                          C_{true opt}  \\\n",
       "pynauty_cert                                       p_max                 \n",
       "b'\\x00\\x00\\x00\\x00\\x00\\x00\\x00p\\x00\\x00\\x00\\x00... 1               4.0   \n",
       "                                                   2               4.0   \n",
       "                                                   3               4.0   \n",
       "                                                   4               4.0   \n",
       "                                                   5               4.0   \n",
       "                                                   6               4.0   \n",
       "                                                   7               4.0   \n",
       "                                                   8               4.0   \n",
       "                                                   9               4.0   \n",
       "                                                   10              4.0   \n",
       "\n",
       "                                                           C_fixed     C_opt  \\\n",
       "pynauty_cert                                       p_max                       \n",
       "b'\\x00\\x00\\x00\\x00\\x00\\x00\\x00p\\x00\\x00\\x00\\x00... 1      3.488031  3.697516   \n",
       "                                                   2      3.443514  4.000000   \n",
       "                                                   3      3.725746       NaN   \n",
       "                                                   4      3.799435       NaN   \n",
       "                                                   5      3.902329       NaN   \n",
       "                                                   6      3.821207       NaN   \n",
       "                                                   7      3.856606       NaN   \n",
       "                                                   8      3.902939       NaN   \n",
       "                                                   9      3.869821       NaN   \n",
       "                                                   10     3.909461       NaN   \n",
       "\n",
       "                                                                                               beta  \\\n",
       "pynauty_cert                                       p_max                                              \n",
       "b'\\x00\\x00\\x00\\x00\\x00\\x00\\x00p\\x00\\x00\\x00\\x00... 1                          [0.41009128896428304]   \n",
       "                                                   2      [0.28529502533693074, 0.3670557719502767]   \n",
       "                                                   3                                            NaN   \n",
       "                                                   4                                            NaN   \n",
       "                                                   5                                            NaN   \n",
       "                                                   6                                            NaN   \n",
       "                                                   7                                            NaN   \n",
       "                                                   8                                            NaN   \n",
       "                                                   9                                            NaN   \n",
       "                                                   10                                           NaN   \n",
       "\n",
       "                                                                                                gamma  \\\n",
       "pynauty_cert                                       p_max                                                \n",
       "b'\\x00\\x00\\x00\\x00\\x00\\x00\\x00p\\x00\\x00\\x00\\x00... 1                            [-0.1564556468757921]   \n",
       "                                                   2      [-0.6421067872213594, -0.43544682164231946]   \n",
       "                                                   3                                              NaN   \n",
       "                                                   4                                              NaN   \n",
       "                                                   5                                              NaN   \n",
       "                                                   6                                              NaN   \n",
       "                                                   7                                              NaN   \n",
       "                                                   8                                              NaN   \n",
       "                                                   9                                              NaN   \n",
       "                                                   10                                             NaN   \n",
       "\n",
       "                                                                               all beta (degenerate optima)  \\\n",
       "pynauty_cert                                       p_max                                                      \n",
       "b'\\x00\\x00\\x00\\x00\\x00\\x00\\x00p\\x00\\x00\\x00\\x00... 1      [[0.41009128896428304], [0.41009128896428304],...   \n",
       "                                                   2      [[0.28529502533693074, 0.3670557719502767], [0...   \n",
       "                                                   3                                                    NaN   \n",
       "                                                   4                                                    NaN   \n",
       "                                                   5                                                    NaN   \n",
       "                                                   6                                                    NaN   \n",
       "                                                   7                                                    NaN   \n",
       "                                                   8                                                    NaN   \n",
       "                                                   9                                                    NaN   \n",
       "                                                   10                                                   NaN   \n",
       "\n",
       "                                                                              all gamma (degenerate optima)  \\\n",
       "pynauty_cert                                       p_max                                                      \n",
       "b'\\x00\\x00\\x00\\x00\\x00\\x00\\x00p\\x00\\x00\\x00\\x00... 1      [[-0.1564556468757921], [-0.8435443531242078],...   \n",
       "                                                   2      [[-0.6421067872213594, -0.43544682164231946], ...   \n",
       "                                                   3                                                    NaN   \n",
       "                                                   4                                                    NaN   \n",
       "                                                   5                                                    NaN   \n",
       "                                                   6                                                    NaN   \n",
       "                                                   7                                                    NaN   \n",
       "                                                   8                                                    NaN   \n",
       "                                                   9                                                    NaN   \n",
       "                                                   10                                                   NaN   \n",
       "\n",
       "                                                                                                      theta  \n",
       "pynauty_cert                                       p_max                                                     \n",
       "b'\\x00\\x00\\x00\\x00\\x00\\x00\\x00p\\x00\\x00\\x00\\x00... 1             [-0.1564556468757921, 0.41009128896428304]  \n",
       "                                                   2      [-0.6421067872213594, -0.43544682164231946, 0....  \n",
       "                                                   3                                                    NaN  \n",
       "                                                   4                                                    NaN  \n",
       "                                                   5                                                    NaN  \n",
       "                                                   6                                                    NaN  \n",
       "                                                   7                                                    NaN  \n",
       "                                                   8                                                    NaN  \n",
       "                                                   9                                                    NaN  \n",
       "                                                   10                                                   NaN  "
      ]
     },
     "execution_count": 2,
     "metadata": {},
     "output_type": "execute_result"
    }
   ],
   "source": [
    "# check the QAOAKit dataset\n",
    "reg3s = get_3_reg_dataset_table()\n",
    "print(reg3s.columns)\n",
    "reg3s.dropna(subset=['C_opt'], how='any')\n",
    "reg3s.head(10)"
   ]
  },
  {
   "cell_type": "code",
   "execution_count": 3,
   "metadata": {},
   "outputs": [
    {
     "name": "stdout",
     "output_type": "stream",
     "text": [
      "20\n"
     ]
    }
   ],
   "source": [
    "# ! accumulate all the data frame, already done, comment them\n",
    "# df_paths = [\"2022-05-27_16:13:03_count_optima_p=1,2.p\",\n",
    "#             \"2022-05-28_15:32:29_count_optima_fixed_angles_p=3.p\",\n",
    "#             \"2022-05-28_16:41:34_count_optima_fixed_angles_p=4-6_nQ=4-10.p\",\n",
    "#             \"2022-05-30_00:04:24_count_optima_fixed_angles_p=4-6_nQ=12.p\",\n",
    "#             \"2022-05-29_10:37:46_count_optima_fixed_angles_nQ=14_p=4.p\",\n",
    "#             \"2022-05-30_00:08:00_count_optima_fixed_angles_p=5-6_nQ=14.p\",\n",
    "#             ]\n",
    "# df = pd.read_pickle(df_paths[0])\n",
    "# for path in df_paths[1:]:\n",
    "#     tmp = pd.read_pickle(path)\n",
    "#     df = df.append(tmp)\n",
    "\n",
    "# print(len(df))\n",
    "# df.to_pickle(\"count_optima_p=1-6_nQ=4-16.p\")\n",
    "\n",
    "# ! read directly from this data frame\n",
    "# ! pay attention to the conda env: py39_mitiq\n",
    "# ! using other env there might be fault\n",
    "# ! guess this is due to the version of numpy\n",
    "df = pd.read_pickle(\"cnt_opt_miti_df/2022-07-10_23:57:40_cnt_opt_fixed_angles.p\")\n",
    "print(len(df))"
   ]
  },
  {
   "cell_type": "code",
   "execution_count": 4,
   "metadata": {},
   "outputs": [
    {
     "data": {
      "text/html": [
       "<div>\n",
       "<style scoped>\n",
       "    .dataframe tbody tr th:only-of-type {\n",
       "        vertical-align: middle;\n",
       "    }\n",
       "\n",
       "    .dataframe tbody tr th {\n",
       "        vertical-align: top;\n",
       "    }\n",
       "\n",
       "    .dataframe thead th {\n",
       "        text-align: right;\n",
       "    }\n",
       "</style>\n",
       "<table border=\"1\" class=\"dataframe\">\n",
       "  <thead>\n",
       "    <tr style=\"text-align: right;\">\n",
       "      <th></th>\n",
       "      <th>row_id</th>\n",
       "      <th>G</th>\n",
       "      <th>pynauty_cert</th>\n",
       "      <th>n_qubits</th>\n",
       "      <th>p</th>\n",
       "      <th>miti_n_opt_list</th>\n",
       "      <th>unmiti_n_opt_list</th>\n",
       "      <th>has_opt</th>\n",
       "    </tr>\n",
       "  </thead>\n",
       "  <tbody>\n",
       "    <tr>\n",
       "      <th>0</th>\n",
       "      <td>31</td>\n",
       "      <td>(0, 1, 2, 3, 4, 5, 6, 7)</td>\n",
       "      <td>b'\\x00\\x00\\x00\\x00\\x00\\x00\\x00p\\x00\\x00\\x00\\x0...</td>\n",
       "      <td>8</td>\n",
       "      <td>2</td>\n",
       "      <td>[42, 16, 31, 9, 20, 7]</td>\n",
       "      <td>[39, 16, 33, 7, 14, 8]</td>\n",
       "      <td>False</td>\n",
       "    </tr>\n",
       "    <tr>\n",
       "      <th>1</th>\n",
       "      <td>41</td>\n",
       "      <td>(0, 1, 2, 3, 4, 5, 6, 7)</td>\n",
       "      <td>b'\\x00\\x00\\x00\\x00\\x00\\x00\\x00p\\x00\\x00\\x00\\x0...</td>\n",
       "      <td>8</td>\n",
       "      <td>2</td>\n",
       "      <td>[20, 10, 14, 9, 14, 6]</td>\n",
       "      <td>[24, 10, 11, 8, 13, 7]</td>\n",
       "      <td>False</td>\n",
       "    </tr>\n",
       "    <tr>\n",
       "      <th>2</th>\n",
       "      <td>51</td>\n",
       "      <td>(0, 1, 2, 3, 4, 5, 6, 7)</td>\n",
       "      <td>b'\\x00\\x00\\x00\\x00\\x00\\x00\\x00p\\x00\\x00\\x00\\x0...</td>\n",
       "      <td>8</td>\n",
       "      <td>2</td>\n",
       "      <td>[1, 1, 1, 1, 1, 1]</td>\n",
       "      <td>[1, 1, 1, 1, 1, 1]</td>\n",
       "      <td>False</td>\n",
       "    </tr>\n",
       "    <tr>\n",
       "      <th>3</th>\n",
       "      <td>61</td>\n",
       "      <td>(0, 1, 2, 3, 4, 5, 6, 7)</td>\n",
       "      <td>b'\\x00\\x00\\x00\\x00\\x00\\x00\\x00p\\x00\\x00\\x00\\x0...</td>\n",
       "      <td>8</td>\n",
       "      <td>2</td>\n",
       "      <td>[22, 6, 6, 7, 17, 3]</td>\n",
       "      <td>[21, 6, 8, 8, 18, 5]</td>\n",
       "      <td>False</td>\n",
       "    </tr>\n",
       "    <tr>\n",
       "      <th>4</th>\n",
       "      <td>71</td>\n",
       "      <td>(0, 1, 2, 3, 4, 5, 6, 7)</td>\n",
       "      <td>b'\\x00\\x00\\x00\\x00\\x00\\x00\\x00p\\x00\\x00\\x00\\x0...</td>\n",
       "      <td>8</td>\n",
       "      <td>2</td>\n",
       "      <td>[1, 1, 1, 1, 1, 1]</td>\n",
       "      <td>[1, 1, 1, 1, 1, 1]</td>\n",
       "      <td>False</td>\n",
       "    </tr>\n",
       "  </tbody>\n",
       "</table>\n",
       "</div>"
      ],
      "text/plain": [
       "  row_id                         G  \\\n",
       "0     31  (0, 1, 2, 3, 4, 5, 6, 7)   \n",
       "1     41  (0, 1, 2, 3, 4, 5, 6, 7)   \n",
       "2     51  (0, 1, 2, 3, 4, 5, 6, 7)   \n",
       "3     61  (0, 1, 2, 3, 4, 5, 6, 7)   \n",
       "4     71  (0, 1, 2, 3, 4, 5, 6, 7)   \n",
       "\n",
       "                                        pynauty_cert n_qubits  p  \\\n",
       "0  b'\\x00\\x00\\x00\\x00\\x00\\x00\\x00p\\x00\\x00\\x00\\x0...        8  2   \n",
       "1  b'\\x00\\x00\\x00\\x00\\x00\\x00\\x00p\\x00\\x00\\x00\\x0...        8  2   \n",
       "2  b'\\x00\\x00\\x00\\x00\\x00\\x00\\x00p\\x00\\x00\\x00\\x0...        8  2   \n",
       "3  b'\\x00\\x00\\x00\\x00\\x00\\x00\\x00p\\x00\\x00\\x00\\x0...        8  2   \n",
       "4  b'\\x00\\x00\\x00\\x00\\x00\\x00\\x00p\\x00\\x00\\x00\\x0...        8  2   \n",
       "\n",
       "          miti_n_opt_list       unmiti_n_opt_list has_opt  \n",
       "0  [42, 16, 31, 9, 20, 7]  [39, 16, 33, 7, 14, 8]   False  \n",
       "1  [20, 10, 14, 9, 14, 6]  [24, 10, 11, 8, 13, 7]   False  \n",
       "2      [1, 1, 1, 1, 1, 1]      [1, 1, 1, 1, 1, 1]   False  \n",
       "3    [22, 6, 6, 7, 17, 3]    [21, 6, 8, 8, 18, 5]   False  \n",
       "4      [1, 1, 1, 1, 1, 1]      [1, 1, 1, 1, 1, 1]   False  "
      ]
     },
     "execution_count": 4,
     "metadata": {},
     "output_type": "execute_result"
    }
   ],
   "source": [
    "df.head(5)"
   ]
  },
  {
   "cell_type": "code",
   "execution_count": 5,
   "metadata": {},
   "outputs": [
    {
     "data": {
      "text/html": [
       "<div>\n",
       "<style scoped>\n",
       "    .dataframe tbody tr th:only-of-type {\n",
       "        vertical-align: middle;\n",
       "    }\n",
       "\n",
       "    .dataframe tbody tr th {\n",
       "        vertical-align: top;\n",
       "    }\n",
       "\n",
       "    .dataframe thead th {\n",
       "        text-align: right;\n",
       "    }\n",
       "</style>\n",
       "<table border=\"1\" class=\"dataframe\">\n",
       "  <thead>\n",
       "    <tr style=\"text-align: right;\">\n",
       "      <th></th>\n",
       "      <th>row_id</th>\n",
       "      <th>G</th>\n",
       "      <th>pynauty_cert</th>\n",
       "      <th>n_qubits</th>\n",
       "      <th>p</th>\n",
       "      <th>miti_n_opt_list</th>\n",
       "      <th>unmiti_n_opt_list</th>\n",
       "      <th>has_opt</th>\n",
       "      <th>avg_miti_n_opt</th>\n",
       "      <th>avg_unmiti_n_opt</th>\n",
       "    </tr>\n",
       "  </thead>\n",
       "  <tbody>\n",
       "    <tr>\n",
       "      <th>0</th>\n",
       "      <td>31</td>\n",
       "      <td>(0, 1, 2, 3, 4, 5, 6, 7)</td>\n",
       "      <td>b'\\x00\\x00\\x00\\x00\\x00\\x00\\x00p\\x00\\x00\\x00\\x0...</td>\n",
       "      <td>8</td>\n",
       "      <td>2</td>\n",
       "      <td>[42, 16, 31, 9, 20, 7]</td>\n",
       "      <td>[39, 16, 33, 7, 14, 8]</td>\n",
       "      <td>False</td>\n",
       "      <td>20.833333</td>\n",
       "      <td>19.500000</td>\n",
       "    </tr>\n",
       "    <tr>\n",
       "      <th>1</th>\n",
       "      <td>41</td>\n",
       "      <td>(0, 1, 2, 3, 4, 5, 6, 7)</td>\n",
       "      <td>b'\\x00\\x00\\x00\\x00\\x00\\x00\\x00p\\x00\\x00\\x00\\x0...</td>\n",
       "      <td>8</td>\n",
       "      <td>2</td>\n",
       "      <td>[20, 10, 14, 9, 14, 6]</td>\n",
       "      <td>[24, 10, 11, 8, 13, 7]</td>\n",
       "      <td>False</td>\n",
       "      <td>12.166667</td>\n",
       "      <td>12.166667</td>\n",
       "    </tr>\n",
       "    <tr>\n",
       "      <th>2</th>\n",
       "      <td>51</td>\n",
       "      <td>(0, 1, 2, 3, 4, 5, 6, 7)</td>\n",
       "      <td>b'\\x00\\x00\\x00\\x00\\x00\\x00\\x00p\\x00\\x00\\x00\\x0...</td>\n",
       "      <td>8</td>\n",
       "      <td>2</td>\n",
       "      <td>[1, 1, 1, 1, 1, 1]</td>\n",
       "      <td>[1, 1, 1, 1, 1, 1]</td>\n",
       "      <td>False</td>\n",
       "      <td>1.000000</td>\n",
       "      <td>1.000000</td>\n",
       "    </tr>\n",
       "    <tr>\n",
       "      <th>3</th>\n",
       "      <td>61</td>\n",
       "      <td>(0, 1, 2, 3, 4, 5, 6, 7)</td>\n",
       "      <td>b'\\x00\\x00\\x00\\x00\\x00\\x00\\x00p\\x00\\x00\\x00\\x0...</td>\n",
       "      <td>8</td>\n",
       "      <td>2</td>\n",
       "      <td>[22, 6, 6, 7, 17, 3]</td>\n",
       "      <td>[21, 6, 8, 8, 18, 5]</td>\n",
       "      <td>False</td>\n",
       "      <td>10.166667</td>\n",
       "      <td>11.000000</td>\n",
       "    </tr>\n",
       "    <tr>\n",
       "      <th>4</th>\n",
       "      <td>71</td>\n",
       "      <td>(0, 1, 2, 3, 4, 5, 6, 7)</td>\n",
       "      <td>b'\\x00\\x00\\x00\\x00\\x00\\x00\\x00p\\x00\\x00\\x00\\x0...</td>\n",
       "      <td>8</td>\n",
       "      <td>2</td>\n",
       "      <td>[1, 1, 1, 1, 1, 1]</td>\n",
       "      <td>[1, 1, 1, 1, 1, 1]</td>\n",
       "      <td>False</td>\n",
       "      <td>1.000000</td>\n",
       "      <td>1.000000</td>\n",
       "    </tr>\n",
       "  </tbody>\n",
       "</table>\n",
       "</div>"
      ],
      "text/plain": [
       "  row_id                         G  \\\n",
       "0     31  (0, 1, 2, 3, 4, 5, 6, 7)   \n",
       "1     41  (0, 1, 2, 3, 4, 5, 6, 7)   \n",
       "2     51  (0, 1, 2, 3, 4, 5, 6, 7)   \n",
       "3     61  (0, 1, 2, 3, 4, 5, 6, 7)   \n",
       "4     71  (0, 1, 2, 3, 4, 5, 6, 7)   \n",
       "\n",
       "                                        pynauty_cert n_qubits  p  \\\n",
       "0  b'\\x00\\x00\\x00\\x00\\x00\\x00\\x00p\\x00\\x00\\x00\\x0...        8  2   \n",
       "1  b'\\x00\\x00\\x00\\x00\\x00\\x00\\x00p\\x00\\x00\\x00\\x0...        8  2   \n",
       "2  b'\\x00\\x00\\x00\\x00\\x00\\x00\\x00p\\x00\\x00\\x00\\x0...        8  2   \n",
       "3  b'\\x00\\x00\\x00\\x00\\x00\\x00\\x00p\\x00\\x00\\x00\\x0...        8  2   \n",
       "4  b'\\x00\\x00\\x00\\x00\\x00\\x00\\x00p\\x00\\x00\\x00\\x0...        8  2   \n",
       "\n",
       "          miti_n_opt_list       unmiti_n_opt_list has_opt  avg_miti_n_opt  \\\n",
       "0  [42, 16, 31, 9, 20, 7]  [39, 16, 33, 7, 14, 8]   False       20.833333   \n",
       "1  [20, 10, 14, 9, 14, 6]  [24, 10, 11, 8, 13, 7]   False       12.166667   \n",
       "2      [1, 1, 1, 1, 1, 1]      [1, 1, 1, 1, 1, 1]   False        1.000000   \n",
       "3    [22, 6, 6, 7, 17, 3]    [21, 6, 8, 8, 18, 5]   False       10.166667   \n",
       "4      [1, 1, 1, 1, 1, 1]      [1, 1, 1, 1, 1, 1]   False        1.000000   \n",
       "\n",
       "   avg_unmiti_n_opt  \n",
       "0         19.500000  \n",
       "1         12.166667  \n",
       "2          1.000000  \n",
       "3         11.000000  \n",
       "4          1.000000  "
      ]
     },
     "execution_count": 5,
     "metadata": {},
     "output_type": "execute_result"
    }
   ],
   "source": [
    "# 1. take product of n_optima_list\n",
    "# 2. take mean value of n_optima_list\n",
    "\n",
    "# def Pi(a):\n",
    "#     prod = 1.0\n",
    "#     for i in a:\n",
    "#         prod *= i\n",
    "#     return prod\n",
    "\n",
    "# df[\"prod_n_optima\"] = df.apply(\n",
    "#     lambda x: Pi(x[\"n_optima_list\"]), axis=1\n",
    "# )\n",
    "\n",
    "df[\"avg_miti_n_opt\"] = df.apply(\n",
    "   lambda x: np.mean(x[\"miti_n_opt_list\"]), axis=1\n",
    ")\n",
    "\n",
    "df[\"avg_unmiti_n_opt\"] = df.apply(\n",
    "   lambda x: np.mean(x[\"unmiti_n_opt_list\"]), axis=1\n",
    ")\n",
    "\n",
    "df.head()"
   ]
  },
  {
   "cell_type": "code",
   "execution_count": 6,
   "metadata": {},
   "outputs": [
    {
     "ename": "KeyError",
     "evalue": "\"Column(s) ['avg_n_optima', 'prod_n_optima'] do not exist\"",
     "output_type": "error",
     "traceback": [
      "\u001b[0;31m---------------------------------------------------------------------------\u001b[0m",
      "\u001b[0;31mKeyError\u001b[0m                                  Traceback (most recent call last)",
      "\u001b[1;32m/Users/kunliu/Documents/QAOAKit/NIQAOAKit/vis_cnt_opt_mitiq.ipynb Cell 6'\u001b[0m in \u001b[0;36m<cell line: 1>\u001b[0;34m()\u001b[0m\n\u001b[0;32m----> <a href='vscode-notebook-cell:/Users/kunliu/Documents/QAOAKit/NIQAOAKit/vis_cnt_opt_mitiq.ipynb#ch0000005?line=0'>1</a>\u001b[0m avg \u001b[39m=\u001b[39m df\u001b[39m.\u001b[39;49mgroupby(\u001b[39m'\u001b[39;49m\u001b[39mp\u001b[39;49m\u001b[39m'\u001b[39;49m)\u001b[39m.\u001b[39;49magg({\u001b[39m'\u001b[39;49m\u001b[39mprod_n_optima\u001b[39;49m\u001b[39m'\u001b[39;49m: \u001b[39m'\u001b[39;49m\u001b[39mmean\u001b[39;49m\u001b[39m'\u001b[39;49m, \u001b[39m'\u001b[39;49m\u001b[39mavg_n_optima\u001b[39;49m\u001b[39m'\u001b[39;49m: \u001b[39m'\u001b[39;49m\u001b[39mmean\u001b[39;49m\u001b[39m'\u001b[39;49m})\n\u001b[1;32m      <a href='vscode-notebook-cell:/Users/kunliu/Documents/QAOAKit/NIQAOAKit/vis_cnt_opt_mitiq.ipynb#ch0000005?line=1'>2</a>\u001b[0m avg\n",
      "File \u001b[0;32m~/miniforge3/envs/py39_mitiq/lib/python3.9/site-packages/pandas/core/groupby/generic.py:869\u001b[0m, in \u001b[0;36mDataFrameGroupBy.aggregate\u001b[0;34m(self, func, engine, engine_kwargs, *args, **kwargs)\u001b[0m\n\u001b[1;32m    866\u001b[0m func \u001b[39m=\u001b[39m maybe_mangle_lambdas(func)\n\u001b[1;32m    868\u001b[0m op \u001b[39m=\u001b[39m GroupByApply(\u001b[39mself\u001b[39m, func, args, kwargs)\n\u001b[0;32m--> 869\u001b[0m result \u001b[39m=\u001b[39m op\u001b[39m.\u001b[39;49magg()\n\u001b[1;32m    870\u001b[0m \u001b[39mif\u001b[39;00m \u001b[39mnot\u001b[39;00m is_dict_like(func) \u001b[39mand\u001b[39;00m result \u001b[39mis\u001b[39;00m \u001b[39mnot\u001b[39;00m \u001b[39mNone\u001b[39;00m:\n\u001b[1;32m    871\u001b[0m     \u001b[39mreturn\u001b[39;00m result\n",
      "File \u001b[0;32m~/miniforge3/envs/py39_mitiq/lib/python3.9/site-packages/pandas/core/apply.py:168\u001b[0m, in \u001b[0;36mApply.agg\u001b[0;34m(self)\u001b[0m\n\u001b[1;32m    165\u001b[0m     \u001b[39mreturn\u001b[39;00m \u001b[39mself\u001b[39m\u001b[39m.\u001b[39mapply_str()\n\u001b[1;32m    167\u001b[0m \u001b[39mif\u001b[39;00m is_dict_like(arg):\n\u001b[0;32m--> 168\u001b[0m     \u001b[39mreturn\u001b[39;00m \u001b[39mself\u001b[39;49m\u001b[39m.\u001b[39;49magg_dict_like()\n\u001b[1;32m    169\u001b[0m \u001b[39melif\u001b[39;00m is_list_like(arg):\n\u001b[1;32m    170\u001b[0m     \u001b[39m# we require a list, but not a 'str'\u001b[39;00m\n\u001b[1;32m    171\u001b[0m     \u001b[39mreturn\u001b[39;00m \u001b[39mself\u001b[39m\u001b[39m.\u001b[39magg_list_like()\n",
      "File \u001b[0;32m~/miniforge3/envs/py39_mitiq/lib/python3.9/site-packages/pandas/core/apply.py:473\u001b[0m, in \u001b[0;36mApply.agg_dict_like\u001b[0;34m(self)\u001b[0m\n\u001b[1;32m    470\u001b[0m     selected_obj \u001b[39m=\u001b[39m obj\u001b[39m.\u001b[39m_selected_obj\n\u001b[1;32m    471\u001b[0m     selection \u001b[39m=\u001b[39m obj\u001b[39m.\u001b[39m_selection\n\u001b[0;32m--> 473\u001b[0m arg \u001b[39m=\u001b[39m \u001b[39mself\u001b[39;49m\u001b[39m.\u001b[39;49mnormalize_dictlike_arg(\u001b[39m\"\u001b[39;49m\u001b[39magg\u001b[39;49m\u001b[39m\"\u001b[39;49m, selected_obj, arg)\n\u001b[1;32m    475\u001b[0m \u001b[39mif\u001b[39;00m selected_obj\u001b[39m.\u001b[39mndim \u001b[39m==\u001b[39m \u001b[39m1\u001b[39m:\n\u001b[1;32m    476\u001b[0m     \u001b[39m# key only used for output\u001b[39;00m\n\u001b[1;32m    477\u001b[0m     colg \u001b[39m=\u001b[39m obj\u001b[39m.\u001b[39m_gotitem(selection, ndim\u001b[39m=\u001b[39m\u001b[39m1\u001b[39m)\n",
      "File \u001b[0;32m~/miniforge3/envs/py39_mitiq/lib/python3.9/site-packages/pandas/core/apply.py:591\u001b[0m, in \u001b[0;36mApply.normalize_dictlike_arg\u001b[0;34m(self, how, obj, func)\u001b[0m\n\u001b[1;32m    589\u001b[0m     \u001b[39mif\u001b[39;00m \u001b[39mlen\u001b[39m(cols) \u001b[39m>\u001b[39m \u001b[39m0\u001b[39m:\n\u001b[1;32m    590\u001b[0m         cols_sorted \u001b[39m=\u001b[39m \u001b[39mlist\u001b[39m(safe_sort(\u001b[39mlist\u001b[39m(cols)))\n\u001b[0;32m--> 591\u001b[0m         \u001b[39mraise\u001b[39;00m \u001b[39mKeyError\u001b[39;00m(\u001b[39mf\u001b[39m\u001b[39m\"\u001b[39m\u001b[39mColumn(s) \u001b[39m\u001b[39m{\u001b[39;00mcols_sorted\u001b[39m}\u001b[39;00m\u001b[39m do not exist\u001b[39m\u001b[39m\"\u001b[39m)\n\u001b[1;32m    593\u001b[0m is_aggregator \u001b[39m=\u001b[39m \u001b[39mlambda\u001b[39;00m x: \u001b[39misinstance\u001b[39m(x, (\u001b[39mlist\u001b[39m, \u001b[39mtuple\u001b[39m, \u001b[39mdict\u001b[39m))\n\u001b[1;32m    595\u001b[0m \u001b[39m# if we have a dict of any non-scalars\u001b[39;00m\n\u001b[1;32m    596\u001b[0m \u001b[39m# eg. {'A' : ['mean']}, normalize all to\u001b[39;00m\n\u001b[1;32m    597\u001b[0m \u001b[39m# be list-likes\u001b[39;00m\n\u001b[1;32m    598\u001b[0m \u001b[39m# Cannot use func.values() because arg may be a Series\u001b[39;00m\n",
      "\u001b[0;31mKeyError\u001b[0m: \"Column(s) ['avg_n_optima', 'prod_n_optima'] do not exist\""
     ]
    }
   ],
   "source": [
    "# avg = df.groupby('p').agg({'prod_n_optima': 'mean', 'avg_n_optima': 'mean'})\n",
    "# avg"
   ]
  },
  {
   "cell_type": "code",
   "execution_count": 7,
   "metadata": {},
   "outputs": [
    {
     "data": {
      "text/plain": [
       "1    48\n",
       "2    48\n",
       "3    48\n",
       "4    38\n",
       "5    38\n",
       "6    38\n",
       "Name: p, dtype: int64"
      ]
     },
     "execution_count": 7,
     "metadata": {},
     "output_type": "execute_result"
    }
   ],
   "source": [
    "df[\"p\"].value_counts()"
   ]
  },
  {
   "cell_type": "code",
   "execution_count": 8,
   "metadata": {},
   "outputs": [
    {
     "data": {
      "text/plain": [
       "10    60\n",
       "12    60\n",
       "14    60\n",
       "8     30\n",
       "16    30\n",
       "6     12\n",
       "4      6\n",
       "Name: n_qubits, dtype: int64"
      ]
     },
     "execution_count": 8,
     "metadata": {},
     "output_type": "execute_result"
    }
   ],
   "source": [
    "df[\"n_qubits\"].value_counts()"
   ]
  },
  {
   "cell_type": "code",
   "execution_count": 7,
   "metadata": {},
   "outputs": [
    {
     "data": {
      "text/plain": [
       "n_qubits  p\n",
       "8         2    5\n",
       "          3    5\n",
       "          4    5\n",
       "          5    5\n",
       "dtype: int64"
      ]
     },
     "execution_count": 7,
     "metadata": {},
     "output_type": "execute_result"
    }
   ],
   "source": [
    "newdf = df.groupby(by=[\"n_qubits\", \"p\"]).size()\n",
    "newdf"
   ]
  },
  {
   "cell_type": "code",
   "execution_count": 9,
   "metadata": {},
   "outputs": [
    {
     "data": {
      "text/html": [
       "<div>\n",
       "<style scoped>\n",
       "    .dataframe tbody tr th:only-of-type {\n",
       "        vertical-align: middle;\n",
       "    }\n",
       "\n",
       "    .dataframe tbody tr th {\n",
       "        vertical-align: top;\n",
       "    }\n",
       "\n",
       "    .dataframe thead th {\n",
       "        text-align: right;\n",
       "    }\n",
       "</style>\n",
       "<table border=\"1\" class=\"dataframe\">\n",
       "  <thead>\n",
       "    <tr style=\"text-align: right;\">\n",
       "      <th></th>\n",
       "      <th>n_qubits</th>\n",
       "      <th>p</th>\n",
       "      <th>avg_unmiti_n_opt</th>\n",
       "      <th>avg_miti_n_opt</th>\n",
       "    </tr>\n",
       "  </thead>\n",
       "  <tbody>\n",
       "    <tr>\n",
       "      <th>0</th>\n",
       "      <td>8</td>\n",
       "      <td>2</td>\n",
       "      <td>8.933333</td>\n",
       "      <td>9.033333</td>\n",
       "    </tr>\n",
       "    <tr>\n",
       "      <th>1</th>\n",
       "      <td>8</td>\n",
       "      <td>3</td>\n",
       "      <td>8.613333</td>\n",
       "      <td>8.680000</td>\n",
       "    </tr>\n",
       "    <tr>\n",
       "      <th>2</th>\n",
       "      <td>8</td>\n",
       "      <td>4</td>\n",
       "      <td>9.721429</td>\n",
       "      <td>10.442857</td>\n",
       "    </tr>\n",
       "    <tr>\n",
       "      <th>3</th>\n",
       "      <td>8</td>\n",
       "      <td>5</td>\n",
       "      <td>8.240000</td>\n",
       "      <td>9.133333</td>\n",
       "    </tr>\n",
       "  </tbody>\n",
       "</table>\n",
       "</div>"
      ],
      "text/plain": [
       "  n_qubits  p  avg_unmiti_n_opt  avg_miti_n_opt\n",
       "0        8  2          8.933333        9.033333\n",
       "1        8  3          8.613333        8.680000\n",
       "2        8  4          9.721429       10.442857\n",
       "3        8  5          8.240000        9.133333"
      ]
     },
     "execution_count": 9,
     "metadata": {},
     "output_type": "execute_result"
    }
   ],
   "source": [
    "# https://blog.51cto.com/u_15069477/4257711\n",
    "newdf = df.groupby(by=[\"n_qubits\", \"p\"], as_index=False).agg({'avg_unmiti_n_opt': 'mean', 'avg_miti_n_opt': 'mean'})\n",
    "newdf"
   ]
  },
  {
   "cell_type": "code",
   "execution_count": 12,
   "metadata": {},
   "outputs": [
    {
     "data": {
      "text/plain": [
       "<matplotlib.legend.Legend at 0x292373e20>"
      ]
     },
     "execution_count": 12,
     "metadata": {},
     "output_type": "execute_result"
    },
    {
     "data": {
      "image/png": "[encoded data removed]",
      "text/plain": [
       "<Figure size 432x288 with 1 Axes>"
      ]
     },
     "metadata": {
      "needs_background": "light"
     },
     "output_type": "display_data"
    }
   ],
   "source": [
    "fig, ax = plt.subplots()\n",
    "# for n_qubits in range(4, 17, 2):\n",
    "for n_qubits in range(8, 9, 2):\n",
    "    # tmp = newdf[newdf[\"n_qubits\"]==n_qubits]\n",
    "    tmp = newdf.loc[(newdf[\"n_qubits\"]==n_qubits) & (newdf[\"p\"]>=2)]\n",
    "    \n",
    "    # ax.plot(tmp[\"p\"], tmp[\"avg_n_optima\"], marker=\"o\", color='purple', markersize=5, label=\"prod\")\n",
    "    ax.plot(tmp[\"p\"], tmp[\"avg_miti_n_opt\"], marker=\"o\", markersize=5, label=f\"nQ={n_qubits},miti\")\n",
    "    ax.plot(tmp[\"p\"], tmp[\"avg_unmiti_n_opt\"], marker=\"o\", markersize=5, label=f\"nQ={n_qubits},unmiti\")\n",
    "\n",
    "ax.set_ylabel(\"avg. # optima\")\n",
    "ax.set_xlabel(\"p\")\n",
    "# ax.set_title('')\n",
    "ax.legend()\n",
    "\n",
    "# fig.colorbar(c, ax=ax)\n",
    "# fig.savefig(f'{figdir}/varIndices={var1_idx},{var2_idx}_nOpt{cnt_opt}.png')\n",
    "# plt.close(fig)"
   ]
  },
  {
   "cell_type": "code",
   "execution_count": 29,
   "metadata": {},
   "outputs": [
    {
     "name": "stdout",
     "output_type": "stream",
     "text": [
      "0    b'\\x00\\x00\\x00\\x00\\x00\\x00\\x00p\\x00\\x00\\x00\\x0...\n",
      "1    b'\\x00\\x00\\x00\\x00\\x00\\x00\\x00p\\x00\\x00\\x00\\x0...\n",
      "2    b'\\x00\\x00\\x00\\x00\\x00\\x00\\x00p\\x00\\x00\\x00\\x0...\n",
      "3    b'\\x00\\x00\\x00\\x00\\x00\\x00\\x00p\\x00\\x00\\x00\\x0...\n",
      "4    b'\\x00\\x00\\x00\\x00\\x00\\x00\\x00p\\x00\\x00\\x00\\x0...\n",
      "Name: pynauty_cert, dtype: object\n"
     ]
    },
    {
     "data": {
      "image/png": "[encoded data removed]",
      "text/plain": [
       "<Figure size 1440x720 with 5 Axes>"
      ]
     },
     "metadata": {
      "needs_background": "light"
     },
     "output_type": "display_data"
    }
   ],
   "source": [
    "# for different graphs\n",
    "\n",
    "# newdf = df.groupby(by=[\"pynauty_cert\"], as_index=False).agg({'avg_unmiti_n_opt': 'mean', 'avg_miti_n_opt': 'mean'})\n",
    "newdf = df\n",
    "print(newdf['pynauty_cert'].drop_duplicates())\n",
    "# fig, ax = plt.subplots()\n",
    "# fig = plt.figure()\n",
    "\n",
    "fig = plt.figure(figsize=[20, 10])\n",
    "# for n_qubits in range(4, 17, 2):\n",
    "# for n_qubits in range(8, 9, 2):\n",
    "cnt = 0\n",
    "for cert in newdf['pynauty_cert'].drop_duplicates():\n",
    "    # tmp = newdf[newdf[\"n_qubits\"]==n_qubits]\n",
    "    # tmp = newdf.loc[(newdf[\"n_qubits\"]==n_qubits) & (newdf[\"p\"]>=2)]\n",
    "    tmp = newdf.loc[newdf['pynauty_cert']==cert]\n",
    "    \n",
    "    plt.subplot(2, 3, cnt+1)\n",
    "    # ax.plot(tmp[\"p\"], tmp[\"avg_n_optima\"], marker=\"o\", color='purple', markersize=5, label=\"prod\")\n",
    "    plt.plot(tmp[\"p\"], tmp[\"avg_miti_n_opt\"], marker=\"o\", markersize=5, label=f\"G{cnt},miti\")\n",
    "    plt.plot(tmp[\"p\"], tmp[\"avg_unmiti_n_opt\"], marker=\"o\", markersize=5, label=f\"G{cnt},unmiti\")\n",
    "    cnt += 1\n",
    "\n",
    "    plt.ylabel(\"avg. # optima\")\n",
    "    plt.xlabel(\"p\")\n",
    "    plt.legend()\n",
    "\n",
    "plt.show()\n",
    "# fig.close\n",
    "# fig.colorbar(c, ax=ax)\n",
    "# fig.savefig(f'{figdir}/varIndices={var1_idx},{var2_idx}_nOpt{cnt_opt}.png')\n",
    "# plt.close(fig)"
   ]
  },
  {
   "cell_type": "code",
   "execution_count": 11,
   "metadata": {},
   "outputs": [
    {
     "data": {
      "text/plain": [
       "<matplotlib.legend.Legend at 0x2ba5e73a0>"
      ]
     },
     "execution_count": 11,
     "metadata": {},
     "output_type": "execute_result"
    },
    {
     "data": {
      "image/png": "[encoded data removed]",
      "text/plain": [
       "<Figure size 432x288 with 1 Axes>"
      ]
     },
     "metadata": {
      "needs_background": "light"
     },
     "output_type": "display_data"
    }
   ],
   "source": [
    "fig, ax = plt.subplots()\n",
    "# for n_qubits in range(4, 17, 2):\n",
    "for p in range(3, 7):\n",
    "    # tmp = newdf[newdf[\"n_qubits\"]==n_qubits]\n",
    "    tmp = newdf.loc[(newdf[\"p\"]==p) & (newdf[\"n_qubits\"]>=8)]\n",
    "    \n",
    "    # ax.plot(tmp[\"p\"], tmp[\"avg_n_optima\"], marker=\"o\", color='purple', markersize=5, label=\"prod\")\n",
    "    ax.plot(tmp[\"n_qubits\"], tmp[\"avg_n_optima\"], marker=\"o\", markersize=5, label=f\"p={p}\")\n",
    "\n",
    "ax.set_ylabel(\"avg. # optima\")\n",
    "ax.set_xlabel(\"# qubits\")\n",
    "# ax.set_title('')\n",
    "ax.legend()\n",
    "\n",
    "# fig.colorbar(c, ax=ax)\n",
    "# fig.savefig(f'{figdir}/varIndices={var1_idx},{var2_idx}_nOpt{cnt_opt}.png')\n",
    "# plt.close(fig)"
   ]
  },
  {
   "cell_type": "code",
   "execution_count": 12,
   "metadata": {},
   "outputs": [
    {
     "data": {
      "text/plain": [
       "row_id\n",
       "0       1\n",
       "1       1\n",
       "2       1\n",
       "3       1\n",
       "4       1\n",
       "       ..\n",
       "6291    1\n",
       "6292    1\n",
       "6300    1\n",
       "6301    1\n",
       "6302    1\n",
       "Length: 258, dtype: int64"
      ]
     },
     "execution_count": 12,
     "metadata": {},
     "output_type": "execute_result"
    }
   ],
   "source": [
    "# count optima for a specific graph\n",
    "# for a given graph, it will have many p-s\n",
    "df.groupby(by=[\"row_id\"]).size()"
   ]
  },
  {
   "cell_type": "code",
   "execution_count": 45,
   "metadata": {},
   "outputs": [
    {
     "data": {
      "image/png": "[encoded data removed]",
      "text/plain": [
       "<Figure size 432x288 with 1 Axes>"
      ]
     },
     "metadata": {},
     "output_type": "display_data"
    }
   ],
   "source": [
    "# below are some test for grid graph, ignore\n",
    "G = nx.grid_2d_graph(4, 4)\n",
    "len(G)\n",
    "nx.draw_networkx(G)"
   ]
  },
  {
   "cell_type": "code",
   "execution_count": 44,
   "metadata": {},
   "outputs": [
    {
     "data": {
      "image/png": "[encoded data removed]",
      "text/plain": [
       "<Figure size 432x288 with 1 Axes>"
      ]
     },
     "metadata": {},
     "output_type": "display_data"
    }
   ],
   "source": [
    "G = nx.grid_graph(dim=(range(7, 9), range(3, 6)))\n",
    "len(G)\n",
    "nx.draw_networkx(G)"
   ]
  }
 ],
 "metadata": {
  "kernelspec": {
   "display_name": "Python 3.9.13 ('py39_mitiq')",
   "language": "python",
   "name": "python3"
  },
  "language_info": {
   "codemirror_mode": {
    "name": "ipython",
    "version": 3
   },
   "file_extension": ".py",
   "mimetype": "text/x-python",
   "name": "python",
   "nbconvert_exporter": "python",
   "pygments_lexer": "ipython3",
   "version": "3.9.13"
  },
  "orig_nbformat": 4,
  "vscode": {
   "interpreter": {
    "hash": "96fb422eda4202d64a5d32f92bf4bc9789b7b1bb6dc4fd0c3326766fb0959649"
   }
  }
 },
 "nbformat": 4,
 "nbformat_minor": 2
}
