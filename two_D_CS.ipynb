{
 "cells": [
  {
   "cell_type": "code",
   "execution_count": 3,
   "metadata": {},
   "outputs": [],
   "source": [
    "import numpy as np\n",
    "import matplotlib as mpl\n",
    "import matplotlib.pyplot as plt\n",
    "import scipy.optimize as spopt\n",
    "import scipy.fftpack as spfft\n",
    "import scipy.ndimage as spimg\n",
    "import cvxpy as cvx\n",
    "# import cv2"
   ]
  },
  {
   "cell_type": "code",
   "execution_count": 22,
   "metadata": {},
   "outputs": [],
   "source": [
    "from QAOAKit.compressed_sensing import (\n",
    "    recon_by_Lasso\n",
    ") "
   ]
  },
  {
   "cell_type": "code",
   "execution_count": 31,
   "metadata": {},
   "outputs": [],
   "source": [
    "def dct2(x):\n",
    "    return spfft.dct(spfft.dct(x.T, norm='ortho', axis=0).T, norm='ortho', axis=0)\n",
    "\n",
    "def idct2(x):\n",
    "    return spfft.idct(spfft.idct(x.T, norm='ortho', axis=0).T, norm='ortho', axis=0)\n",
    "\n",
    "# read original image and downsize for speed\n",
    "Xorig = plt.imread('escher_waterfall.jpeg')\n",
    "# print(Xorig.shape)\n",
    "t = np.linspace(0, 1, 36)\n",
    "x = np.cos(2 * 97 * np.pi * t) + np.cos(2 * 777 * np.pi * t) + 2\n",
    "x = x.reshape(-1, 1)\n",
    "x = np.repeat(x, 4*36, axis=1)\n",
    "# print(x.shape)\n",
    "X = x\n",
    "# Xorig\n",
    "# Xorig = spimg.imread('escher_waterfall.jpeg', flatten=True, mode='L') # read in grayscale\n",
    "# X = spimg.zoom(Xorig, 0.04)\n",
    "ny,nx = X.shape"
   ]
  },
  {
   "cell_type": "code",
   "execution_count": 35,
   "metadata": {},
   "outputs": [
    {
     "name": "stdout",
     "output_type": "stream",
     "text": [
      "===============================================================================\n",
      "                                     CVXPY                                     \n",
      "                                     v1.2.1                                    \n",
      "===============================================================================\n",
      "(CVXPY) Aug 10 03:16:18 PM: Your problem has 5184 variables, 1 constraints, and 0 parameters.\n",
      "(CVXPY) Aug 10 03:16:18 PM: It is compliant with the following grammars: DCP, DQCP\n",
      "(CVXPY) Aug 10 03:16:18 PM: (If you need to solve this problem multiple times, but with different data, consider using parameters.)\n",
      "(CVXPY) Aug 10 03:16:18 PM: CVXPY will first compile your problem; then, it will invoke a numerical solver to obtain a solution.\n",
      "-------------------------------------------------------------------------------\n",
      "                                  Compilation                                  \n",
      "-------------------------------------------------------------------------------\n",
      "(CVXPY) Aug 10 03:16:18 PM: Compiling problem (target solver=ECOS).\n",
      "(CVXPY) Aug 10 03:16:18 PM: Reduction chain: Dcp2Cone -> CvxAttr2Constr -> ConeMatrixStuffing -> ECOS\n",
      "(CVXPY) Aug 10 03:16:18 PM: Applying reduction Dcp2Cone\n",
      "(CVXPY) Aug 10 03:16:18 PM: Applying reduction CvxAttr2Constr\n",
      "(CVXPY) Aug 10 03:16:18 PM: Applying reduction ConeMatrixStuffing\n"
     ]
    },
    {
     "name": "stderr",
     "output_type": "stream",
     "text": [
      "/Users/kunliu/miniforge3/envs/py39_mitiq/lib/python3.9/site-packages/cvxpy/expressions/expression.py:593: UserWarning: \n",
      "This use of ``*`` has resulted in matrix multiplication.\n",
      "Using ``*`` for matrix multiplication has been deprecated since CVXPY 1.1.\n",
      "    Use ``*`` for matrix-scalar and vector-scalar multiplication.\n",
      "    Use ``@`` for matrix-matrix and matrix-vector multiplication.\n",
      "    Use ``multiply`` for elementwise multiplication.\n",
      "This code path has been hit 3 times so far.\n",
      "\n",
      "  warnings.warn(msg, UserWarning)\n"
     ]
    },
    {
     "name": "stdout",
     "output_type": "stream",
     "text": [
      "(CVXPY) Aug 10 03:16:21 PM: Applying reduction ECOS\n",
      "(CVXPY) Aug 10 03:16:23 PM: Finished problem compilation (took 5.057e+00 seconds).\n",
      "-------------------------------------------------------------------------------\n",
      "                                Numerical solver                               \n",
      "-------------------------------------------------------------------------------\n",
      "(CVXPY) Aug 10 03:16:23 PM: Invoking solver ECOS  to obtain a solution.\n",
      "\n",
      "ECOS 2.0.10 - (C) embotech GmbH, Zurich Switzerland, 2012-15. Web: www.embotech.com/ECOS\n",
      "\n",
      "It     pcost       dcost      gap   pres   dres    k/t    mu     step   sigma     IR    |   BT\n",
      " 0  +0.000e+00  -0.000e+00  +4e+05  1e+00  1e-02  1e+00  4e+01    ---    ---    2  1  - |  -  - \n",
      " 1  +1.945e+02  +1.975e+02  +2e+05  9e-01  5e-03  3e+00  2e+01  0.6555  1e-01   1  1  1 |  0  0\n",
      " 2  +2.636e+02  +2.648e+02  +5e+04  8e-01  1e-03  1e+00  5e+00  0.7412  3e-02   1  0  1 |  0  0\n",
      " 3  +3.065e+02  +3.069e+02  +1e+04  4e-01  4e-04  4e-01  1e+00  0.7274  2e-02   1  0  0 |  0  0\n",
      " 4  +3.251e+02  +3.252e+02  +5e+03  1e-01  1e-04  1e-01  4e-01  0.6843  2e-02   1  0  0 |  0  0\n",
      " 5  +3.301e+02  +3.301e+02  +1e+03  4e-02  4e-05  5e-02  1e-01  0.7262  2e-02   1  0  1 |  0  0\n",
      " 6  +3.315e+02  +3.315e+02  +3e+02  9e-03  8e-06  1e-02  3e-02  0.8142  2e-02   1  0  0 |  0  0\n",
      " 7  +3.318e+02  +3.318e+02  +7e+00  2e-04  2e-07  5e-04  6e-04  0.9890  1e-02   1  0  0 |  0  0\n",
      " 8  +3.318e+02  +3.318e+02  +7e-02  2e-06  2e-09  5e-06  7e-06  0.9890  1e-04   1  0  0 |  0  0\n",
      " 9  +3.318e+02  +3.318e+02  +8e-04  3e-08  2e-11  6e-08  8e-08  0.9890  1e-04   2  0  0 |  0  0\n",
      "10  +3.318e+02  +3.318e+02  +9e-06  3e-10  3e-13  6e-10  9e-10  0.9890  1e-04   2  0  0 |  0  0\n",
      "11  +3.318e+02  +3.318e+02  +1e-07  3e-12  3e-15  7e-12  1e-11  0.9890  1e-04   3  0  0 |  0  0\n",
      "\n",
      "OPTIMAL (within feastol=3.3e-12, reltol=3.1e-10, abstol=1.0e-07).\n",
      "Runtime: 215.302451 seconds.\n",
      "\n",
      "-------------------------------------------------------------------------------\n",
      "                                    Summary                                    \n",
      "-------------------------------------------------------------------------------\n",
      "(CVXPY) Aug 10 03:19:58 PM: Problem status: optimal\n",
      "(CVXPY) Aug 10 03:19:58 PM: Optimal value: 3.318e+02\n",
      "(CVXPY) Aug 10 03:19:58 PM: Compilation took 5.057e+00 seconds\n",
      "(CVXPY) Aug 10 03:19:58 PM: Solver (including time spent in interface) took 2.153e+02 seconds\n"
     ]
    }
   ],
   "source": [
    "# extract small sample of signal\n",
    "k = round(nx * ny * 0.5) # 50% sample\n",
    "ri = np.random.choice(nx * ny, k, replace=False) # random sample of indices\n",
    "b = X.T.flat[ri]\n",
    "# b = np.expand_dims(b, axis=1)\n",
    "\n",
    "# create dct matrix operator using kron (memory errors for large ny*nx)\n",
    "A = np.kron(\n",
    "    spfft.idct(np.identity(nx), norm='ortho', axis=0),\n",
    "    spfft.idct(np.identity(ny), norm='ortho', axis=0)\n",
    "    )\n",
    "A = A[ri,:] # same as phi times kron\n",
    "\n",
    "# vx = recon_by_Lasso(A, b, 0.1)\n",
    "# Xat2 = vx\n",
    "\n",
    "# do L1 optimization\n",
    "vx = cvx.Variable(nx * ny)\n",
    "objective = cvx.Minimize(cvx.norm(vx, 1))\n",
    "# b = b.reshape(-1)\n",
    "constraints = [A*vx == b]\n",
    "prob = cvx.Problem(objective, constraints)\n",
    "result = prob.solve(verbose=True)\n",
    "Xat2 = np.array(vx.value).squeeze()"
   ]
  },
  {
   "cell_type": "code",
   "execution_count": 40,
   "metadata": {},
   "outputs": [],
   "source": [
    "# reconstruct signal\n",
    "Xat = Xat2.reshape(nx, ny).T # stack columns\n",
    "Xa = idct2(Xat)\n",
    "\n",
    "# confirm solution\n",
    "if not np.allclose(X.T.flat[ri], Xa.T.flat[ri]):\n",
    "    print('Warning: values at sample indices don\\'t match original.')\n",
    "\n",
    "# create images of mask (for visualization)\n",
    "X_max = np.max(X)\n",
    "mask = np.zeros(X.shape)\n",
    "mask.T.flat[ri] = X_max\n",
    "Xm = X_max * np.ones(X.shape)\n",
    "Xm.T.flat[ri] = X.T.flat[ri]"
   ]
  },
  {
   "cell_type": "code",
   "execution_count": 48,
   "metadata": {},
   "outputs": [
    {
     "data": {
      "image/png": "[encoded data removed]",
      "text/plain": [
       "<Figure size 720x576 with 4 Axes>"
      ]
     },
     "metadata": {
      "needs_background": "light"
     },
     "output_type": "display_data"
    }
   ],
   "source": [
    "# plt.rc('font', size=20)\n",
    "fig, axs = plt.subplots(nrows=1, ncols=3, figsize=(10, 8))\n",
    "# fig, axs = plt.subplots(1, 4)\n",
    "axs = axs.reshape(-1)\n",
    "axs[0].imshow(X.T)\n",
    "# axs[1].imshow(mask.T)\n",
    "axs[1].imshow(Xa.T)\n",
    "im = axs[2].imshow(Xm.T)\n",
    "\n",
    "fig.colorbar(im, ax=[axs[i] for i in range(3)])\n",
    "plt.show()"
   ]
  },
  {
   "cell_type": "code",
   "execution_count": null,
   "metadata": {},
   "outputs": [],
   "source": []
  }
 ],
 "metadata": {
  "kernelspec": {
   "display_name": "Python 3.9.13 ('py39_mitiq')",
   "language": "python",
   "name": "python3"
  },
  "language_info": {
   "codemirror_mode": {
    "name": "ipython",
    "version": 3
   },
   "file_extension": ".py",
   "mimetype": "text/x-python",
   "name": "python",
   "nbconvert_exporter": "python",
   "pygments_lexer": "ipython3",
   "version": "3.9.13"
  },
  "orig_nbformat": 4,
  "vscode": {
   "interpreter": {
    "hash": "96fb422eda4202d64a5d32f92bf4bc9789b7b1bb6dc4fd0c3326766fb0959649"
   }
  }
 },
 "nbformat": 4,
 "nbformat_minor": 2
}
