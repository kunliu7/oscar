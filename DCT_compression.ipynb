{
 "cells": [
  {
   "cell_type": "code",
   "execution_count": 35,
   "metadata": {},
   "outputs": [],
   "source": [
    "from scipy.fftpack import dct, idct\n",
    "import numpy as np\n",
    "import scipy as sp\n",
    "from scipy.fftpack import dctn, idctn\n",
    "import matplotlib.pyplot as plt"
   ]
  },
  {
   "cell_type": "code",
   "execution_count": 36,
   "metadata": {},
   "outputs": [],
   "source": [
    "\n",
    "\n",
    "# implement 2D DCT\n",
    "def dct2(a):\n",
    "    return dct(dct(a.T, norm='ortho').T, norm='ortho')\n",
    "\n",
    "# implement 2D IDCT\n",
    "def idct2(a):\n",
    "    return idct(idct(a.T, norm='ortho').T, norm='ortho')    \n",
    "\n",
    "\n",
    "def cnt_nonzero(a):\n",
    "    \n",
    "    pass\n",
    "\n",
    "def vis_lss(lss, titles):\n",
    "    n = len(lss)\n",
    "    fig, axs = plt.subplots(nrows=1, ncols=n, figsize=(15, 12))\n",
    "    if n > 1:\n",
    "        axs = axs.reshape(-1)\n",
    "    else:\n",
    "        axs = [axs]\n",
    "\n",
    "    for i in range(n):\n",
    "        im = axs[i].imshow(lss[i])\n",
    "        axs[i].set_title(titles[i])\n",
    "    \n",
    "    fig.colorbar(im, ax=[axs[i] for i in range(n)])\n",
    "    plt.show()"
   ]
  },
  {
   "cell_type": "code",
   "execution_count": 79,
   "metadata": {},
   "outputs": [],
   "source": [
    "def to_matrix(a):\n",
    "    d = len(a.shape)\n",
    "    half_d = d // 2\n",
    "    shape0 = a.shape[0]\n",
    "    return a.reshape((shape0 ** half_d, shape0 ** half_d))\n",
    "\n",
    "def nonzero_ratio_fft(ls):\n",
    "    # ls = to_matrix(ls)\n",
    "    f = np.fft.fftn(ls)\n",
    "    print(\"Using FFT\")\n",
    "    print(\"original shape            =\", ls.shape)\n",
    "    print(\"original min, max         =\", ls.min(), ls.max())\n",
    "    print(\"after transform, shape    =\", f.shape)\n",
    "    print(\"after transform, min, max =\", f.min(), f.max())\n",
    "    nonzero_ids = np.argwhere(np.abs(f) > 1e-6)\n",
    "    nonzero_ratio = len(nonzero_ids) * 1.0 / np.prod(ls.shape)\n",
    "    print(\"nonzero_ratio             =\", nonzero_ratio)\n",
    "\n",
    "    # one_d = np.abs(f).reshape(-1)\n",
    "    # plt.hist(one_d, bins=30)\n",
    "    print(\"\")\n",
    "    \n",
    "    return nonzero_ratio\n",
    "\n",
    "\n",
    "def nonzero_ratio_dct(ls):\n",
    "    f = dctn(ls)\n",
    "    print(\"Using DCT:\")\n",
    "    print(\"original shape            =\", ls.shape)\n",
    "    print(\"original min, max         =\", ls.min(), ls.max())\n",
    "    print(\"after transform, shape    =\", f.shape)\n",
    "    print(\"after transform, min, max =\", f.min(), f.max())\n",
    "    nonzero_ids = np.argwhere(np.abs(f) > 1e-6)\n",
    "    # print(nonzero_ids.shape)\n",
    "    # print(nonzero_ids[0])\n",
    "    nonzero_ratio = len(nonzero_ids) * 1.0 / np.prod(ls.shape)\n",
    "    print(\"nonzero_ratio             =\", nonzero_ratio)\n",
    "    print(\"\")\n",
    "\n",
    "    return nonzero_ratio\n",
    "\n"
   ]
  },
  {
   "cell_type": "code",
   "execution_count": 80,
   "metadata": {},
   "outputs": [
    {
     "name": "stdout",
     "output_type": "stream",
     "text": [
      "Using FFT\n",
      "original shape            = (14, 14, 14, 14, 14, 14)\n",
      "original min, max         = 2.25 4.483594966720623\n",
      "after transform, shape    = (14, 14, 14, 14, 14, 14)\n",
      "after transform, min, max = (-668983.9878045222+152691.22968788096j) (26567833.225510072+0j)\n",
      "nonzero_ratio             = 0.0001818173125143435\n",
      "\n",
      "Using DCT:\n",
      "original shape            = (14, 14, 14, 14, 14, 14)\n",
      "original min, max         = 2.25 4.483594966720623\n",
      "after transform, shape    = (14, 14, 14, 14, 14, 14)\n",
      "after transform, min, max = -43916042.08322674 1700341326.4326444\n",
      "nonzero_ratio             = 4.7944521415396645e-05\n",
      "\n",
      "\n"
     ]
    },
    {
     "data": {
      "text/plain": [
       "array([[1],\n",
       "       [2],\n",
       "       [3]])"
      ]
     },
     "execution_count": 80,
     "metadata": {},
     "output_type": "execute_result"
    }
   ],
   "source": [
    "path = \"figs/grid_search/twolocal/maxcut/sv-ideal-p=0/maxcut-sv-ideal-n=6-p=0-seed=0-14-100-100.npz\"\n",
    "ls = np.load(path, allow_pickle=True)['data']\n",
    "\n",
    "nonzero_ratio_fft(ls)\n",
    "\n",
    "\n",
    "\n",
    "nonzero_ratio_dct(ls)\n",
    "\n",
    "print(\"\")\n",
    "\n",
    "# im_v = idct2(im_f)\n",
    "\n",
    "# vis_lss([ls, im_f, im_v], ['origin 2D', 'After DCT', 'After iDCT'])\n",
    "# vis_lss([ls, im_f], \n",
    "# ['origin 2D', 'After DCT'])\n",
    "a = np.array([0.0, 1, 3, 2, 0.0])\n",
    "np.argwhere(a > 1e-6)"
   ]
  },
  {
   "cell_type": "code",
   "execution_count": 84,
   "metadata": {},
   "outputs": [
    {
     "name": "stdout",
     "output_type": "stream",
     "text": [
      "Using FFT\n",
      "original shape            = (14, 14, 14, 14, 14, 14)\n",
      "original min, max         = 1.2500323287589765e-07 0.9999999195190039\n",
      "after transform, shape    = (14, 14, 14, 14, 14, 14)\n",
      "after transform, min, max = (-2996.2079578907587-67.31074173995043j) (3764370.40506732+0j)\n",
      "nonzero_ratio             = 1.0\n",
      "\n",
      "\n",
      "Using DCT:\n",
      "original shape            = (14, 14, 14, 14, 14, 14)\n",
      "original min, max         = 1.2500323287589765e-07 0.9999999195190039\n",
      "after transform, shape    = (14, 14, 14, 14, 14, 14)\n",
      "after transform, min, max = -104831.31384351985 240919705.92430848\n",
      "nonzero_ratio             = 1.0\n",
      "\n",
      "\n"
     ]
    }
   ],
   "source": [
    "rng = np.random.default_rng(42)\n",
    "random_ls = rng.random(size=ls.shape) # [0, 1)\n",
    "\n",
    "nonzero_ratio_fft(random_ls)\n",
    "print(\"\")\n",
    "nonzero_ratio_dct(random_ls)\n",
    "print(\"\")"
   ]
  },
  {
   "cell_type": "code",
   "execution_count": 86,
   "metadata": {},
   "outputs": [
    {
     "name": "stdout",
     "output_type": "stream",
     "text": [
      "Using FFT\n",
      "original shape            = (50, 100)\n",
      "original min, max         = -8.655518741610841 8.655518741610841\n",
      "after transform, shape    = (50, 100)\n",
      "after transform, min, max = (-9315.295728269019-880.5547019869016j) (9352.20460723792+293.90487007890744j)\n",
      "nonzero_ratio             = 0.9504\n",
      "\n",
      "Using DCT:\n",
      "original shape            = (50, 100)\n",
      "original min, max         = -8.655518741610841 8.655518741610841\n",
      "after transform, shape    = (50, 100)\n",
      "after transform, min, max = -23221.758548578986 22653.002398596473\n",
      "nonzero_ratio             = 0.25\n",
      "\n"
     ]
    },
    {
     "data": {
      "text/plain": [
       "0.25"
      ]
     },
     "execution_count": 86,
     "metadata": {},
     "output_type": "execute_result"
    }
   ],
   "source": [
    "ls = np.load(\n",
    "    # \"figs/grid_search/qaoa/maxcut/sv-ideal-p=2/maxcut-sv-ideal-n=24-p=2-seed=15-12-15.npz\",\n",
    "    \"figs/grid_search/qaoa/maxcut/sv-ideal-p=1/maxcut-sv-ideal-n=30-p=1-seed=15-50-100.npz\",\n",
    "    allow_pickle=True\n",
    ")['data']\n",
    "\n",
    "nonzero_ratio_fft(ls)\n",
    "nonzero_ratio_dct(ls)\n"
   ]
  }
 ],
 "metadata": {
  "kernelspec": {
   "display_name": "py39_mitiq",
   "language": "python",
   "name": "python3"
  },
  "language_info": {
   "codemirror_mode": {
    "name": "ipython",
    "version": 3
   },
   "file_extension": ".py",
   "mimetype": "text/x-python",
   "name": "python",
   "nbconvert_exporter": "python",
   "pygments_lexer": "ipython3",
   "version": "3.9.13"
  },
  "orig_nbformat": 4,
  "vscode": {
   "interpreter": {
    "hash": "96fb422eda4202d64a5d32f92bf4bc9789b7b1bb6dc4fd0c3326766fb0959649"
   }
  }
 },
 "nbformat": 4,
 "nbformat_minor": 2
}
