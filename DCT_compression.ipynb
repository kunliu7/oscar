{
 "cells": [
  {
   "cell_type": "code",
   "execution_count": 2,
   "metadata": {},
   "outputs": [],
   "source": [
    "from scipy.fftpack import dct, idct\n",
    "import numpy as np\n",
    "import scipy as sp\n",
    "from scipy.fftpack import dctn, idctn\n",
    "import matplotlib.pyplot as plt\n",
    "from scipy.fftpack import fftn\n",
    "from scipy.ndimage import fourier_shift"
   ]
  },
  {
   "cell_type": "code",
   "execution_count": 3,
   "metadata": {},
   "outputs": [],
   "source": [
    "\n",
    "\n",
    "# implement 2D DCT\n",
    "def dct2(a):\n",
    "    return dct(dct(a.T, norm='ortho').T, norm='ortho')\n",
    "\n",
    "# implement 2D IDCT\n",
    "def idct2(a):\n",
    "    return idct(idct(a.T, norm='ortho').T, norm='ortho')    \n",
    "\n",
    "\n",
    "def cnt_nonzero(a):\n",
    "    \n",
    "    pass\n",
    "\n",
    "def vis_lss(lss, titles):\n",
    "    n = len(lss)\n",
    "    fig, axs = plt.subplots(nrows=1, ncols=n, figsize=(15, 12))\n",
    "    if n > 1:\n",
    "        axs = axs.reshape(-1)\n",
    "    else:\n",
    "        axs = [axs]\n",
    "\n",
    "    for i in range(n):\n",
    "        im = axs[i].imshow(lss[i])\n",
    "        axs[i].set_title(titles[i])\n",
    "    \n",
    "    fig.colorbar(im, ax=[axs[i] for i in range(n)])\n",
    "    plt.show()"
   ]
  },
  {
   "cell_type": "code",
   "execution_count": 21,
   "metadata": {},
   "outputs": [],
   "source": [
    "def to_matrix(a):\n",
    "    d = len(a.shape)\n",
    "    half_d = d // 2\n",
    "    shape0 = a.shape[0]\n",
    "    return a.reshape((shape0 ** half_d, shape0 ** half_d))\n",
    "\n",
    "def nonzero_ratio_fft(ls):\n",
    "    # ls = to_matrix(ls)\n",
    "    f = np.fft.fftn(ls)\n",
    "    print(\"Using FFT\")\n",
    "    print(\"original shape            =\", ls.shape)\n",
    "    # print(\"original min, max         =\", ls.min(), ls.max())\n",
    "    # print(\"after transform, shape    =\", f.shape)\n",
    "    print(\"after transform, min, max =\", f.min(), f.max())\n",
    "    nonzero_ids = np.argwhere(np.abs(f) > 1e-6)\n",
    "    nonzero_ratio = len(nonzero_ids) * 1.0 / np.prod(ls.shape)\n",
    "    print(\"# nonzero, nonzero_ratio  =\", len(nonzero_ids), nonzero_ratio)\n",
    "\n",
    "    plot_CDF(np.abs(f))\n",
    "    # one_d = np.abs(f).reshape(-1)\n",
    "    # plt.hist(one_d, bins=30)\n",
    "    print(\"\")\n",
    "    \n",
    "    return nonzero_ratio\n",
    "\n",
    "\n",
    "def nonzero_ratio_dct(ls):\n",
    "    f = dctn(ls)\n",
    "    print(\"Using DCT:\")\n",
    "    print(\"original shape            =\", ls.shape)\n",
    "    # print(\"original min, max         =\", ls.min(), ls.max())\n",
    "    # print(\"after transform, shape    =\", f.shape)\n",
    "    print(\"after transform, min, max =\", f.min(), f.max())\n",
    "    nonzero_ids = np.argwhere(np.abs(f) > 1e-6)\n",
    "    # print(nonzero_ids.shape)\n",
    "    # print(nonzero_ids[0])\n",
    "    nonzero_ratio = len(nonzero_ids) * 1.0 / np.prod(ls.shape)\n",
    "    print(\"# nonzero, nonzero_ratio  =\", len(nonzero_ids), nonzero_ratio)\n",
    "\n",
    "    plot_CDF(f)\n",
    "    \n",
    "    print(\"\")\n",
    "\n",
    "    return nonzero_ratio\n",
    "\n",
    "\n",
    "def plot_CDF(data):\n",
    "    data = data.reshape(-1)\n",
    "    \n",
    "    # getting data of the histogram\n",
    "    count, bins_count = np.histogram(data, bins=200)\n",
    "    \n",
    "    # finding the PDF of the histogram using count values\n",
    "    pdf = count / sum(count)\n",
    "    print(sum(count))\n",
    "    \n",
    "    # using numpy np.cumsum to calculate the CDF\n",
    "    # We can also find using the PDF values by looping and adding\n",
    "    cdf = np.cumsum(pdf)\n",
    "    \n",
    "    # plotting PDF and CDF\n",
    "    print(len(bins_count[1:]), len(pdf), len(cdf))\n",
    "    # plt.semilogx(bins_count[1:], pdf, color=\"red\", label=\"PDF\")\n",
    "    # plt.semilogx(bins_count[1:], cdf, label=\"CDF\")\n",
    "\n",
    "    # plt.scatter(bins_count[1:], pdf, color=\"red\", label=\"PDF\")\n",
    "    # plt.scatter(bins_count[1:], cdf, label=\"CDF\")\n",
    "\n",
    "    plt.plot(bins_count[1:], pdf, color=\"red\", label=\"PDF\")\n",
    "    plt.plot(bins_count[1:], cdf, label=\"CDF\")\n",
    "    \n",
    "    # plt.xticks(bins_count[1:])\n",
    "    plt.xscale(\"log\")\n",
    "    plt.legend()\n",
    "    plt.show()\n",
    "\n",
    "\n",
    "def power_spectrum(data: np.ndarray):\n",
    "    data_fft = fftn(data)\n",
    "\n",
    "    d = len(data.shape)\n",
    "\n",
    "    # Shift the zero frequency component to the center of the spectrum\n",
    "    shift = (data.shape[i] // 2 for i in range(d))\n",
    "    data_fft_shifted = fourier_shift(data_fft, shift)\n",
    "\n",
    "    # Compute the power spectrum (squared magnitude of the Fourier coefficients)\n",
    "    power_spectrum = np.abs(data_fft_shifted)**2\n",
    "\n",
    "    # Normalize the power spectrum\n",
    "    power_spectrum /= power_spectrum.max()\n",
    "\n",
    "    print(\"shape of power spectrum =\", power_spectrum.shape)\n",
    "    nonzero_ids = np.argwhere(np.abs(power_spectrum) > 1e-6)\n",
    "    print(\"# nonzeros =\", len(nonzero_ids))\n",
    "\n",
    "    # Display the power spectrum\n",
    "    if d == 4:\n",
    "        plt.imshow(power_spectrum[:,:,0,0], cmap='gray')\n",
    "        plt.show()\n",
    "    elif d == 6:\n",
    "        plt.imshow(power_spectrum[:,:,0,0,0,0], cmap='gray')\n",
    "        plt.show()\n"
   ]
  },
  {
   "cell_type": "code",
   "execution_count": 22,
   "metadata": {},
   "outputs": [
    {
     "name": "stdout",
     "output_type": "stream",
     "text": [
      "Using FFT\n",
      "original shape            = (14, 14, 14, 14, 14, 14)\n",
      "after transform, min, max = (-668983.9878045222+152691.22968788096j) (26567833.225510072+0j)\n",
      "# nonzero, nonzero_ratio  = 1369 0.0001818173125143435\n",
      "7529536\n",
      "200 200 200\n"
     ]
    },
    {
     "data": {
      "image/png": "[encoded data removed]",
      "text/plain": [
       "<Figure size 432x288 with 1 Axes>"
      ]
     },
     "metadata": {
      "needs_background": "light"
     },
     "output_type": "display_data"
    },
    {
     "name": "stdout",
     "output_type": "stream",
     "text": [
      "\n",
      "Using DCT:\n",
      "original shape            = (14, 14, 14, 14, 14, 14)\n",
      "after transform, min, max = -43916042.08322674 1700341326.4326444\n",
      "# nonzero, nonzero_ratio  = 361 4.7944521415396645e-05\n",
      "7529536\n",
      "200 200 200\n"
     ]
    },
    {
     "data": {
      "image/png": "[encoded data removed]",
      "text/plain": [
       "<Figure size 432x288 with 1 Axes>"
      ]
     },
     "metadata": {
      "needs_background": "light"
     },
     "output_type": "display_data"
    },
    {
     "name": "stdout",
     "output_type": "stream",
     "text": [
      "\n",
      "shape of power spectrum = (14, 14, 14, 14, 14, 14)\n",
      "# nonzeros = 49\n"
     ]
    },
    {
     "data": {
      "image/png": "[encoded data removed]",
      "text/plain": [
       "<Figure size 432x288 with 1 Axes>"
      ]
     },
     "metadata": {
      "needs_background": "light"
     },
     "output_type": "display_data"
    }
   ],
   "source": [
    "path = \"figs/grid_search/twolocal/maxcut/sv-ideal-p=0/maxcut-sv-ideal-n=6-p=0-seed=0-14-100-100.npz\"\n",
    "ls = np.load(path, allow_pickle=True)['data']\n",
    "\n",
    "nonzero_ratio_fft(ls)\n",
    "nonzero_ratio_dct(ls)\n",
    "\n",
    "power_spectrum(ls)\n",
    "\n",
    "# plot_CDF(ls)\n",
    "\n",
    "# im_v = idct2(im_f)\n",
    "\n",
    "# vis_lss([ls, im_f, im_v], ['origin 2D', 'After DCT', 'After iDCT'])\n",
    "# vis_lss([ls, im_f], \n",
    "# ['origin 2D', 'After DCT'])\n",
    "# a = np.array([0.0, 1, 3, 2, 0.0])\n",
    "# np.argwhere(a > 1e-6)"
   ]
  },
  {
   "cell_type": "code",
   "execution_count": 39,
   "metadata": {},
   "outputs": [
    {
     "name": "stdout",
     "output_type": "stream",
     "text": [
      "Using FFT\n",
      "original shape            = (12, 12, 15, 15)\n",
      "after transform, min, max = (-29235.295377534047-14896.127018340432j) (33487.445508635254+1755.0026529694242j)\n",
      "# nonzero, nonzero_ratio  = 32398 0.9999382716049383\n",
      "32400\n",
      "200 200 200\n"
     ]
    },
    {
     "data": {
      "image/png": "[encoded data removed]",
      "text/plain": [
       "<Figure size 432x288 with 1 Axes>"
      ]
     },
     "metadata": {
      "needs_background": "light"
     },
     "output_type": "display_data"
    },
    {
     "name": "stdout",
     "output_type": "stream",
     "text": [
      "\n",
      "Using DCT:\n",
      "original shape            = (12, 12, 15, 15)\n",
      "after transform, min, max = -264606.2974802406 661540.4681748126\n",
      "# nonzero, nonzero_ratio  = 15998 0.49376543209876544\n",
      "32400\n",
      "200 200 200\n"
     ]
    },
    {
     "data": {
      "image/png": "[encoded data removed]",
      "text/plain": [
       "<Figure size 432x288 with 1 Axes>"
      ]
     },
     "metadata": {
      "needs_background": "light"
     },
     "output_type": "display_data"
    },
    {
     "name": "stdout",
     "output_type": "stream",
     "text": [
      "\n",
      "shape of power spectrum = (12, 12, 15, 15)\n",
      "# nonzeros = 5375\n"
     ]
    },
    {
     "data": {
      "image/png": "[encoded data removed]",
      "text/plain": [
       "<Figure size 432x288 with 1 Axes>"
      ]
     },
     "metadata": {
      "needs_background": "light"
     },
     "output_type": "display_data"
    }
   ],
   "source": [
    "ls = np.load(\n",
    "    \"figs/grid_search/qaoa/maxcut/sv-ideal-p=2/maxcut-sv-ideal-n=24-p=2-seed=15-12-15.npz\",\n",
    "    # \"figs/grid_search/qaoa/maxcut/sv-ideal-p=1/maxcut-sv-ideal-n=30-p=1-seed=15-50-100.npz\",\n",
    "    allow_pickle=True\n",
    ")['data']\n",
    "\n",
    "nonzero_ratio_fft(ls)\n",
    "nonzero_ratio_dct(ls)\n",
    "\n",
    "power_spectrum(ls)\n",
    "\n",
    "# plot_CDF(ls)"
   ]
  },
  {
   "cell_type": "code",
   "execution_count": 41,
   "metadata": {},
   "outputs": [
    {
     "name": "stdout",
     "output_type": "stream",
     "text": [
      "Using FFT\n",
      "original shape            = (12, 12, 15, 15)\n",
      "after transform, min, max = (-151.83921385636089+17.5893222229747j) (16217.50112450706+0j)\n",
      "# nonzero, nonzero_ratio  = 32400 1.0\n",
      "32400\n",
      "200 200 200\n"
     ]
    },
    {
     "data": {
      "image/png": "[encoded data removed]",
      "text/plain": [
       "<Figure size 432x288 with 1 Axes>"
      ]
     },
     "metadata": {
      "needs_background": "light"
     },
     "output_type": "display_data"
    },
    {
     "name": "stdout",
     "output_type": "stream",
     "text": [
      "\n",
      "Using DCT:\n",
      "original shape            = (12, 12, 15, 15)\n",
      "after transform, min, max = -1514.1310435191695 259480.01799211296\n",
      "# nonzero, nonzero_ratio  = 32400 1.0\n",
      "32400\n",
      "200 200 200\n"
     ]
    },
    {
     "data": {
      "image/png": "[encoded data removed]",
      "text/plain": [
       "<Figure size 432x288 with 1 Axes>"
      ]
     },
     "metadata": {
      "needs_background": "light"
     },
     "output_type": "display_data"
    },
    {
     "name": "stdout",
     "output_type": "stream",
     "text": [
      "\n"
     ]
    },
    {
     "data": {
      "text/plain": [
       "1.0"
      ]
     },
     "execution_count": 41,
     "metadata": {},
     "output_type": "execute_result"
    }
   ],
   "source": [
    "rng = np.random.default_rng(42)\n",
    "random_ls = rng.random(size=ls.shape) # [0, 1)\n",
    "\n",
    "nonzero_ratio_fft(random_ls)\n",
    "nonzero_ratio_dct(random_ls)\n"
   ]
  },
  {
   "cell_type": "code",
   "execution_count": 38,
   "metadata": {},
   "outputs": [
    {
     "data": {
      "image/png": "[encoded data removed]",
      "text/plain": [
       "<Figure size 1080x288 with 3 Axes>"
      ]
     },
     "metadata": {
      "needs_background": "light"
     },
     "output_type": "display_data"
    }
   ],
   "source": [
    "# Matplotlib中多子图绘图时，坐标轴及其label的几种排布方式\n",
    "# https://zodiac911.github.io/blog/matplotlib-axis.html\n",
    "def vis_sparsity(ax: plt.Axes, problem: str, p: int):\n",
    "    if problem == 'maxcut':\n",
    "        if p == 2:\n",
    "            path = \"figs/sparsity/ns=[16, 20, 24]-seeds=[0, 1, 2, 3, 4, 5, 6, 7, 8, 9, 10, 11, 12, 13, 14, 15]-ansatz=qaoa-problem=maxcut-noise=ideal-p=2.npz\"\n",
    "        elif p == 1:\n",
    "            path = \"figs/sparsity/ns=[16, 20, 24, 30]-seeds=[0, 1, 2, 3, 4, 5, 6, 7, 8, 9, 10, 11, 12, 13, 14, 15]-ansatz=qaoa-problem=maxcut-noise=ideal-p=1.npz\"\n",
    "    elif problem == 'skmodel':\n",
    "        path = \"figs/sparsity/ns=[12, 16, 20, 24]-seeds=[0, 1, 2, 3, 4, 5, 6, 7, 8, 9, 10, 11, 12, 13, 14, 15]-ansatz=qaoa-problem=skmodel-noise=ideal-p=2.npz\"\n",
    "\n",
    "    data = np.load(path, allow_pickle=True)\n",
    "    data = dict(data)\n",
    "\n",
    "    seeds = data['seeds']\n",
    "    ns = data['n_qubits_list']\n",
    "    labels = data['labels']\n",
    "    # reshape(len(n_qubits_list), len(seeds))\n",
    "\n",
    "\n",
    "\n",
    "    for label in labels:\n",
    "        sparsity = data[label]\n",
    "        sparsity = np.mean(sparsity, axis=1)\n",
    "\n",
    "        ax.plot(ns, sparsity, label=label)\n",
    "\n",
    "    ax.set_xlabel('n_qubits')\n",
    "    ax.set_ylabel('avg. sparsity on 16 instances')\n",
    "    ax.set_title(f\"{problem} p={p}\")\n",
    "    # ax.set_super_title('Sparsity of QAOA ansatz')\n",
    "    ax.set_xticks(ns)\n",
    "    ax.legend()\n",
    "\n",
    "fig, axs = plt.subplots(1, 3, figsize=(15, 4), sharey=True)\n",
    "\n",
    "vis_sparsity(axs[0], 'maxcut', 2)\n",
    "vis_sparsity(axs[1], 'maxcut', 1)\n",
    "vis_sparsity(axs[2], 'skmodel', 2)\n",
    "\n",
    "plt.show()"
   ]
  },
  {
   "cell_type": "code",
   "execution_count": null,
   "metadata": {},
   "outputs": [],
   "source": []
  },
  {
   "cell_type": "code",
   "execution_count": 6,
   "metadata": {},
   "outputs": [],
   "source": []
  }
 ],
 "metadata": {
  "kernelspec": {
   "display_name": "py39_mitiq",
   "language": "python",
   "name": "python3"
  },
  "language_info": {
   "codemirror_mode": {
    "name": "ipython",
    "version": 3
   },
   "file_extension": ".py",
   "mimetype": "text/x-python",
   "name": "python",
   "nbconvert_exporter": "python",
   "pygments_lexer": "ipython3",
   "version": "3.9.13"
  },
  "orig_nbformat": 4,
  "vscode": {
   "interpreter": {
    "hash": "96fb422eda4202d64a5d32f92bf4bc9789b7b1bb6dc4fd0c3326766fb0959649"
   }
  }
 },
 "nbformat": 4,
 "nbformat_minor": 2
}
